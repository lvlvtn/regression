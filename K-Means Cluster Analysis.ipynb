{
 "cells": [
  {
   "cell_type": "markdown",
   "metadata": {},
   "source": [
    "# K-Means Cluster Analysis"
   ]
  },
  {
   "cell_type": "markdown",
   "metadata": {},
   "source": [
    "This is an assignment for week 4 of the 'Machine Learning for Data Analysis' course by Wesleyan University.\n",
    "\n",
    "A k-means cluster analysis was conducted to identify underlying subgroups of countries based on their similarity in macroeconomic indicators. \n",
    "\n",
    "Categorical predictors include binary variables for WTO membership and landlocked-'ness' of a country. Quantitative predictor variables include income level of a country measured in GDP per capita, the score of 'Ease of doing business', the average applied tariff and economical remoteness. \n",
    "\n",
    "All data were collected for 2017.\n",
    "All predictor variables were standardized to have a mean of zero and a standard deviation of one."
   ]
  },
  {
   "cell_type": "markdown",
   "metadata": {},
   "source": [
    "## Prepare the dataset "
   ]
  },
  {
   "cell_type": "code",
   "execution_count": 165,
   "metadata": {},
   "outputs": [],
   "source": [
    "import pandas as pd\n",
    "import numpy as np\n",
    "import matplotlib.pylab as plt\n",
    "from sklearn.model_selection import train_test_split\n",
    "from sklearn import preprocessing\n",
    "from sklearn.cluster import KMeans\n",
    "from scipy.spatial.distance import cdist\n",
    "from sklearn.decomposition import PCA\n",
    "import statsmodels.formula.api as smf\n",
    "import statsmodels.stats.multicomp as multi "
   ]
  },
  {
   "cell_type": "code",
   "execution_count": 166,
   "metadata": {},
   "outputs": [],
   "source": [
    "# Download prepared csv file\n",
    "data = pd.read_csv('openness_df.csv')"
   ]
  },
  {
   "cell_type": "code",
   "execution_count": 167,
   "metadata": {
    "scrolled": false
   },
   "outputs": [
    {
     "data": {
      "text/html": [
       "<div>\n",
       "<style scoped>\n",
       "    .dataframe tbody tr th:only-of-type {\n",
       "        vertical-align: middle;\n",
       "    }\n",
       "\n",
       "    .dataframe tbody tr th {\n",
       "        vertical-align: top;\n",
       "    }\n",
       "\n",
       "    .dataframe thead th {\n",
       "        text-align: right;\n",
       "    }\n",
       "</style>\n",
       "<table border=\"1\" class=\"dataframe\">\n",
       "  <thead>\n",
       "    <tr style=\"text-align: right;\">\n",
       "      <th></th>\n",
       "      <th>country</th>\n",
       "      <th>year</th>\n",
       "      <th>gdp</th>\n",
       "      <th>gdp_ppc</th>\n",
       "      <th>imports</th>\n",
       "      <th>exports</th>\n",
       "      <th>population</th>\n",
       "      <th>business_ease</th>\n",
       "      <th>code</th>\n",
       "      <th>region</th>\n",
       "      <th>tariff</th>\n",
       "      <th>wto_status</th>\n",
       "      <th>landlocked</th>\n",
       "      <th>remoteness</th>\n",
       "      <th>openness</th>\n",
       "    </tr>\n",
       "  </thead>\n",
       "  <tbody>\n",
       "    <tr>\n",
       "      <th>114</th>\n",
       "      <td>Lesotho</td>\n",
       "      <td>2017</td>\n",
       "      <td>2.565352e+09</td>\n",
       "      <td>1226.612630</td>\n",
       "      <td>2.157490e+09</td>\n",
       "      <td>1.055693e+09</td>\n",
       "      <td>2091412.0</td>\n",
       "      <td>58.56005</td>\n",
       "      <td>LSO</td>\n",
       "      <td>Sub-Saharan Africa</td>\n",
       "      <td>12.020633</td>\n",
       "      <td>Member</td>\n",
       "      <td>1</td>\n",
       "      <td>NaN</td>\n",
       "      <td>1.252531</td>\n",
       "    </tr>\n",
       "    <tr>\n",
       "      <th>201</th>\n",
       "      <td>Uganda</td>\n",
       "      <td>2017</td>\n",
       "      <td>2.599503e+10</td>\n",
       "      <td>631.522720</td>\n",
       "      <td>6.578802e+09</td>\n",
       "      <td>4.729743e+09</td>\n",
       "      <td>41162465.0</td>\n",
       "      <td>57.87464</td>\n",
       "      <td>UGA</td>\n",
       "      <td>Sub-Saharan Africa</td>\n",
       "      <td>11.259265</td>\n",
       "      <td>Member</td>\n",
       "      <td>1</td>\n",
       "      <td>2.808672e+10</td>\n",
       "      <td>0.435027</td>\n",
       "    </tr>\n",
       "    <tr>\n",
       "      <th>20</th>\n",
       "      <td>Bahamas, The</td>\n",
       "      <td>2017</td>\n",
       "      <td>1.215040e+10</td>\n",
       "      <td>31827.242699</td>\n",
       "      <td>5.000200e+09</td>\n",
       "      <td>4.192100e+09</td>\n",
       "      <td>381761.0</td>\n",
       "      <td>58.61968</td>\n",
       "      <td>BHS</td>\n",
       "      <td>Latin America &amp; Caribbean</td>\n",
       "      <td>19.157399</td>\n",
       "      <td>Observer</td>\n",
       "      <td>0</td>\n",
       "      <td>1.924696e+10</td>\n",
       "      <td>0.756543</td>\n",
       "    </tr>\n",
       "    <tr>\n",
       "      <th>109</th>\n",
       "      <td>Liberia</td>\n",
       "      <td>2017</td>\n",
       "      <td>3.285455e+09</td>\n",
       "      <td>698.701764</td>\n",
       "      <td>3.242931e+09</td>\n",
       "      <td>7.978462e+08</td>\n",
       "      <td>4702228.0</td>\n",
       "      <td>43.58222</td>\n",
       "      <td>LBR</td>\n",
       "      <td>Sub-Saharan Africa</td>\n",
       "      <td>NaN</td>\n",
       "      <td>Member</td>\n",
       "      <td>0</td>\n",
       "      <td>4.519561e+09</td>\n",
       "      <td>1.229899</td>\n",
       "    </tr>\n",
       "    <tr>\n",
       "      <th>209</th>\n",
       "      <td>Virgin Islands (U.S.)</td>\n",
       "      <td>2017</td>\n",
       "      <td>3.855000e+09</td>\n",
       "      <td>35938.024388</td>\n",
       "      <td>3.029000e+09</td>\n",
       "      <td>2.795000e+09</td>\n",
       "      <td>107268.0</td>\n",
       "      <td>NaN</td>\n",
       "      <td>VIR</td>\n",
       "      <td>Latin America &amp; Caribbean</td>\n",
       "      <td>NaN</td>\n",
       "      <td>No perticipation</td>\n",
       "      <td>0</td>\n",
       "      <td>NaN</td>\n",
       "      <td>1.510765</td>\n",
       "    </tr>\n",
       "  </tbody>\n",
       "</table>\n",
       "</div>"
      ],
      "text/plain": [
       "                   country  year           gdp       gdp_ppc       imports  \\\n",
       "114                Lesotho  2017  2.565352e+09   1226.612630  2.157490e+09   \n",
       "201                 Uganda  2017  2.599503e+10    631.522720  6.578802e+09   \n",
       "20            Bahamas, The  2017  1.215040e+10  31827.242699  5.000200e+09   \n",
       "109                Liberia  2017  3.285455e+09    698.701764  3.242931e+09   \n",
       "209  Virgin Islands (U.S.)  2017  3.855000e+09  35938.024388  3.029000e+09   \n",
       "\n",
       "          exports  population  business_ease code                      region  \\\n",
       "114  1.055693e+09   2091412.0       58.56005  LSO         Sub-Saharan Africa    \n",
       "201  4.729743e+09  41162465.0       57.87464  UGA         Sub-Saharan Africa    \n",
       "20   4.192100e+09    381761.0       58.61968  BHS  Latin America & Caribbean    \n",
       "109  7.978462e+08   4702228.0       43.58222  LBR         Sub-Saharan Africa    \n",
       "209  2.795000e+09    107268.0            NaN  VIR  Latin America & Caribbean    \n",
       "\n",
       "        tariff        wto_status  landlocked    remoteness  openness  \n",
       "114  12.020633            Member           1           NaN  1.252531  \n",
       "201  11.259265            Member           1  2.808672e+10  0.435027  \n",
       "20   19.157399          Observer           0  1.924696e+10  0.756543  \n",
       "109        NaN            Member           0  4.519561e+09  1.229899  \n",
       "209        NaN  No perticipation           0           NaN  1.510765  "
      ]
     },
     "execution_count": 167,
     "metadata": {},
     "output_type": "execute_result"
    }
   ],
   "source": [
    "data.sample(5)"
   ]
  },
  {
   "cell_type": "code",
   "execution_count": 168,
   "metadata": {},
   "outputs": [],
   "source": [
    "# Clean the data\n",
    "data = data[['gdp_ppc','business_ease','landlocked','remoteness','wto_status','tariff','openness']]\n",
    "data = data[data['remoteness'] > 0]\n",
    "data.dropna(inplace=True)\n",
    "\n",
    "# Bin WTO status into two categories\n",
    "data[\"wto_status\"] = data[\"wto_status\"].replace({'Member': 1, 'Observer': 0, 'No perticipation': 0})"
   ]
  },
  {
   "cell_type": "markdown",
   "metadata": {},
   "source": [
    "Trying to standardize predictors, I've got the error 'UserWarning: Numerical issues were encountered when centering the data and might not be solved. Dataset may contain too large values. You may need to prescale your features.' So I've decided to convert imports, exports and remoteness to millions."
   ]
  },
  {
   "cell_type": "code",
   "execution_count": 169,
   "metadata": {},
   "outputs": [],
   "source": [
    "# Set values in millions\n",
    "data['gdp_ppc_m'] = data['gdp_ppc'] / 1000000000\n",
    "data['remoteness_m'] = data['remoteness'] / 1000000000"
   ]
  },
  {
   "cell_type": "code",
   "execution_count": 170,
   "metadata": {},
   "outputs": [
    {
     "data": {
      "text/html": [
       "<div>\n",
       "<style scoped>\n",
       "    .dataframe tbody tr th:only-of-type {\n",
       "        vertical-align: middle;\n",
       "    }\n",
       "\n",
       "    .dataframe tbody tr th {\n",
       "        vertical-align: top;\n",
       "    }\n",
       "\n",
       "    .dataframe thead th {\n",
       "        text-align: right;\n",
       "    }\n",
       "</style>\n",
       "<table border=\"1\" class=\"dataframe\">\n",
       "  <thead>\n",
       "    <tr style=\"text-align: right;\">\n",
       "      <th></th>\n",
       "      <th>gdp_ppc_m</th>\n",
       "      <th>business_ease</th>\n",
       "      <th>landlocked</th>\n",
       "      <th>remoteness_m</th>\n",
       "      <th>wto_status</th>\n",
       "      <th>tariff</th>\n",
       "    </tr>\n",
       "  </thead>\n",
       "  <tbody>\n",
       "    <tr>\n",
       "      <th>count</th>\n",
       "      <td>1.280000e+02</td>\n",
       "      <td>128.000000</td>\n",
       "      <td>128.000000</td>\n",
       "      <td>128.000000</td>\n",
       "      <td>128.000000</td>\n",
       "      <td>128.000000</td>\n",
       "    </tr>\n",
       "    <tr>\n",
       "      <th>mean</th>\n",
       "      <td>1.102304e-05</td>\n",
       "      <td>61.003450</td>\n",
       "      <td>0.226562</td>\n",
       "      <td>873.034649</td>\n",
       "      <td>0.890625</td>\n",
       "      <td>8.588206</td>\n",
       "    </tr>\n",
       "    <tr>\n",
       "      <th>std</th>\n",
       "      <td>1.676600e-05</td>\n",
       "      <td>12.221347</td>\n",
       "      <td>0.420252</td>\n",
       "      <td>3169.389920</td>\n",
       "      <td>0.313335</td>\n",
       "      <td>4.888276</td>\n",
       "    </tr>\n",
       "    <tr>\n",
       "      <th>min</th>\n",
       "      <td>2.929976e-07</td>\n",
       "      <td>32.351740</td>\n",
       "      <td>0.000000</td>\n",
       "      <td>0.483795</td>\n",
       "      <td>0.000000</td>\n",
       "      <td>0.000000</td>\n",
       "    </tr>\n",
       "    <tr>\n",
       "      <th>25%</th>\n",
       "      <td>1.551603e-06</td>\n",
       "      <td>52.960030</td>\n",
       "      <td>0.000000</td>\n",
       "      <td>11.962895</td>\n",
       "      <td>1.000000</td>\n",
       "      <td>5.248021</td>\n",
       "    </tr>\n",
       "    <tr>\n",
       "      <th>50%</th>\n",
       "      <td>4.190149e-06</td>\n",
       "      <td>60.444595</td>\n",
       "      <td>0.000000</td>\n",
       "      <td>49.775052</td>\n",
       "      <td>1.000000</td>\n",
       "      <td>7.828432</td>\n",
       "    </tr>\n",
       "    <tr>\n",
       "      <th>75%</th>\n",
       "      <td>1.049209e-05</td>\n",
       "      <td>69.049845</td>\n",
       "      <td>0.000000</td>\n",
       "      <td>264.630281</td>\n",
       "      <td>1.000000</td>\n",
       "      <td>11.187245</td>\n",
       "    </tr>\n",
       "    <tr>\n",
       "      <th>max</th>\n",
       "      <td>8.045005e-05</td>\n",
       "      <td>87.022130</td>\n",
       "      <td>1.000000</td>\n",
       "      <td>27741.072241</td>\n",
       "      <td>1.000000</td>\n",
       "      <td>32.303855</td>\n",
       "    </tr>\n",
       "  </tbody>\n",
       "</table>\n",
       "</div>"
      ],
      "text/plain": [
       "          gdp_ppc_m  business_ease  landlocked  remoteness_m  wto_status  \\\n",
       "count  1.280000e+02     128.000000  128.000000    128.000000  128.000000   \n",
       "mean   1.102304e-05      61.003450    0.226562    873.034649    0.890625   \n",
       "std    1.676600e-05      12.221347    0.420252   3169.389920    0.313335   \n",
       "min    2.929976e-07      32.351740    0.000000      0.483795    0.000000   \n",
       "25%    1.551603e-06      52.960030    0.000000     11.962895    1.000000   \n",
       "50%    4.190149e-06      60.444595    0.000000     49.775052    1.000000   \n",
       "75%    1.049209e-05      69.049845    0.000000    264.630281    1.000000   \n",
       "max    8.045005e-05      87.022130    1.000000  27741.072241    1.000000   \n",
       "\n",
       "           tariff  \n",
       "count  128.000000  \n",
       "mean     8.588206  \n",
       "std      4.888276  \n",
       "min      0.000000  \n",
       "25%      5.248021  \n",
       "50%      7.828432  \n",
       "75%     11.187245  \n",
       "max     32.303855  "
      ]
     },
     "execution_count": 170,
     "metadata": {},
     "output_type": "execute_result"
    }
   ],
   "source": [
    "# Subset clustering variables\n",
    "cluster = data[['gdp_ppc_m','business_ease','landlocked','remoteness_m','wto_status','tariff']]\n",
    "cluster.describe()"
   ]
  },
  {
   "cell_type": "code",
   "execution_count": 171,
   "metadata": {},
   "outputs": [],
   "source": [
    "# standardize clustering variables to have mean=0 and sd=1\n",
    "clustervar=cluster.copy()\n",
    "clustervar['gdp_ppc_m']=preprocessing.scale(clustervar['gdp_ppc_m'].astype('float64'))\n",
    "clustervar['business_ease']=preprocessing.scale(clustervar['business_ease'].astype('float64'))\n",
    "clustervar['landlocked']=preprocessing.scale(clustervar['landlocked'].astype('float64'))\n",
    "clustervar['remoteness_m']=preprocessing.scale(clustervar['remoteness_m'].astype('float64'))\n",
    "clustervar['wto_status']=preprocessing.scale(clustervar['wto_status'].astype('float64'))\n",
    "clustervar['tariff']=preprocessing.scale(clustervar['tariff'].astype('float64'))"
   ]
  },
  {
   "cell_type": "markdown",
   "metadata": {},
   "source": [
    "## Choosing the number of clusters"
   ]
  },
  {
   "cell_type": "code",
   "execution_count": 172,
   "metadata": {},
   "outputs": [],
   "source": [
    "# split data into train and test sets\n",
    "clus_train, clus_test = train_test_split(clustervar, test_size=.3, random_state=123)\n",
    "\n",
    "# k-means cluster analysis for 1-9 clusters                                                           \n",
    "clusters=range(1,10)\n",
    "meandist=[]\n",
    "\n",
    "for k in clusters:\n",
    "    model=KMeans(n_clusters=k)\n",
    "    model.fit(clus_train)\n",
    "    clusassign=model.predict(clus_train)\n",
    "    meandist.append(sum(np.min(cdist(clus_train, model.cluster_centers_, 'euclidean'), axis=1)) / clus_train.shape[0])"
   ]
  },
  {
   "cell_type": "code",
   "execution_count": 173,
   "metadata": {
    "scrolled": false
   },
   "outputs": [
    {
     "data": {
      "text/plain": [
       "Text(0.5, 1.0, 'Selecting k with the Elbow Method')"
      ]
     },
     "execution_count": 173,
     "metadata": {},
     "output_type": "execute_result"
    },
    {
     "data": {
      "image/png": "[encoded data removed]",
      "text/plain": [
       "<Figure size 576x432 with 1 Axes>"
      ]
     },
     "metadata": {
      "needs_background": "light"
     },
     "output_type": "display_data"
    }
   ],
   "source": [
    "plt.figure(figsize=(8,6))\n",
    "plt.plot(clusters, meandist)\n",
    "plt.xlabel('Number of clusters')\n",
    "plt.ylabel('Average distance')\n",
    "plt.title('Selecting k with the Elbow Method')"
   ]
  },
  {
   "cell_type": "markdown",
   "metadata": {},
   "source": [
    "### Visualizing different clusters solutions"
   ]
  },
  {
   "cell_type": "code",
   "execution_count": 174,
   "metadata": {},
   "outputs": [
    {
     "data": {
      "image/png": "[encoded data removed]",
      "text/plain": [
       "<Figure size 576x432 with 1 Axes>"
      ]
     },
     "metadata": {
      "needs_background": "light"
     },
     "output_type": "display_data"
    }
   ],
   "source": [
    "# Try 6 cluster solution\n",
    "model6=KMeans(n_clusters=6)\n",
    "model6.fit(clus_train)\n",
    "clusassign=model6.predict(clus_train)\n",
    "\n",
    "pca_2 = PCA(2)\n",
    "plot_columns = pca_2.fit_transform(clus_train)\n",
    "\n",
    "plt.figure(figsize=(8,6))\n",
    "plt.scatter(x=plot_columns[:,0], y=plot_columns[:,1], c=model6.labels_, alpha=0.5)\n",
    "plt.xlabel('Canonical variable 1')\n",
    "plt.ylabel('Canonical variable 2')\n",
    "plt.title('Scatterplot of Canonical Variables for 6 Clusters')\n",
    "plt.show()"
   ]
  },
  {
   "cell_type": "code",
   "execution_count": 175,
   "metadata": {},
   "outputs": [
    {
     "data": {
      "image/png": "[encoded data removed]",
      "text/plain": [
       "<Figure size 576x432 with 1 Axes>"
      ]
     },
     "metadata": {
      "needs_background": "light"
     },
     "output_type": "display_data"
    }
   ],
   "source": [
    "# Try 4 cluster solution\n",
    "model4=KMeans(n_clusters=4)\n",
    "model4.fit(clus_train)\n",
    "clusassign=model6.predict(clus_train)\n",
    "\n",
    "pca_2 = PCA(2)\n",
    "plot_columns = pca_2.fit_transform(clus_train)\n",
    "\n",
    "plt.figure(figsize=(8,6))\n",
    "plt.scatter(x=plot_columns[:,0], y=plot_columns[:,1], c=model4.labels_, alpha=0.5)\n",
    "plt.xlabel('Canonical variable 1')\n",
    "plt.ylabel('Canonical variable 2')\n",
    "plt.title('Scatterplot of Canonical Variables for 4 Clusters')\n",
    "plt.show()"
   ]
  },
  {
   "cell_type": "markdown",
   "metadata": {},
   "source": [
    "### Findings\n",
    "\n",
    "\n",
    "Scatterplots for 6 clusters contain a group of observation located between 0 and -1 on the y-axis and -2 and 2 on the x-axis that was densely packed. Those clusters were highly correlated with each other and within-cluster variance was relatively low. \n",
    "Dividing observation onto 4 clusters show better separation, so this is the model that will be interpreted. "
   ]
  },
  {
   "cell_type": "markdown",
   "metadata": {},
   "source": [
    "### Interpretation of the Three Cluster Solution"
   ]
  },
  {
   "cell_type": "code",
   "execution_count": 176,
   "metadata": {
    "scrolled": false
   },
   "outputs": [
    {
     "data": {
      "text/plain": [
       "1    68\n",
       "3    10\n",
       "0     9\n",
       "2     2\n",
       "Name: cluster, dtype: int64"
      ]
     },
     "execution_count": 176,
     "metadata": {},
     "output_type": "execute_result"
    }
   ],
   "source": [
    "# create a unique identifier variable from the index for the \n",
    "# cluster training data to merge with the cluster assignment variable\n",
    "clus_train.reset_index(level=0, inplace=True)\n",
    "# create a list that has the new index variable\n",
    "cluslist=list(clus_train['index'])\n",
    "# create a list of cluster assignments\n",
    "labels=list(model4.labels_)\n",
    "# combine index variable list with cluster assignment list into a dictionary\n",
    "newlist=dict(zip(cluslist, labels))\n",
    "\n",
    "# convert newlist dictionary to a dataframe\n",
    "newclus=pd.DataFrame.from_dict(newlist, orient='index')\n",
    "\n",
    "# rename the cluster assignment column\n",
    "newclus.columns = ['cluster']\n",
    "\n",
    "# now do the same for the cluster assignment variable\n",
    "# create a unique identifier variable from the index for the \n",
    "# cluster assignment dataframe \n",
    "# to merge with cluster training data\n",
    "newclus.reset_index(level=0, inplace=True)\n",
    "# merge the cluster assignment dataframe with the cluster training variable dataframe\n",
    "# by the index variable\n",
    "merged_train=pd.merge(clus_train, newclus, on='index')\n",
    "merged_train.head(n=100)\n",
    "# cluster frequencies\n",
    "merged_train.cluster.value_counts()"
   ]
  },
  {
   "cell_type": "code",
   "execution_count": 177,
   "metadata": {},
   "outputs": [
    {
     "name": "stdout",
     "output_type": "stream",
     "text": [
      "Clustering variable means by cluster\n",
      "              index  gdp_ppc_m  business_ease  landlocked  remoteness_m  \\\n",
      "cluster                                                                   \n",
      "0         66.333333  -0.290127      -0.448195    0.520493     -0.269912   \n",
      "1        112.602941  -0.326220      -0.110304   -0.049402     -0.171593   \n",
      "2        120.000000   1.397295       1.100261   -0.541229      7.319269   \n",
      "3         83.700000   2.617142       1.450540   -0.302342      0.376824   \n",
      "\n",
      "         wto_status    tariff  \n",
      "cluster                        \n",
      "0         -2.853569  1.294386  \n",
      "1          0.350438  0.052379  \n",
      "2          0.350438 -0.986801  \n",
      "3          0.350438 -1.155200  \n"
     ]
    }
   ],
   "source": [
    "# Calculate clustering variable means by cluster\n",
    "clustergrp = merged_train.groupby('cluster').mean()\n",
    "print (\"Clustering variable means by cluster\")\n",
    "print(clustergrp)"
   ]
  },
  {
   "cell_type": "markdown",
   "metadata": {},
   "source": [
    "### Interpretation\n",
    "\n",
    "The first cluster contains 9 countries that have second lowest income levels, but they are the worst in terms of ease of doing business, they contain the largest proportion of landlocked countries, they have the least proportion of the WTO members and the highest tariffs. Nevertheless, they are closest to their trading partners.\n",
    "\n",
    "The second cluster contains 68 poorest countries that are in the second-lowest position for the most indicators: they have the second-lowest ease of doing business and economical remoteness, second-highest applied tariffs and second-highest proportion of landlocked countries. However, they contain the same proportion of WTO members as the third and fourth clusters.\n",
    "\n",
    "The third cluster contains 2 countries that have the second-highest income levels, ease of doing business, second-lowest tariffs. They are the least landlocked counties and they are located farthest to their trading partners.\n",
    "\n",
    "The third cluster contains 10 richest countries. They are easiest in doing business in and apply the lowest tariffs. They are second closest to their trading partners and contain the second least landlocked countries."
   ]
  },
  {
   "cell_type": "markdown",
   "metadata": {},
   "source": [
    "## Trade Openness Analysis\n",
    "\n",
    "Validating clusters in training data by examining cluster differences in tarde openness using ANOVA."
   ]
  },
  {
   "cell_type": "code",
   "execution_count": 178,
   "metadata": {},
   "outputs": [],
   "source": [
    "# Merge Opennes with clustering variables and cluster assignment data \n",
    "data_o = data['openness']\n",
    "# split Opennes data into train and test sets\n",
    "\n",
    "o_train, o_test = train_test_split(data_o, test_size=.3, random_state=123)\n",
    "\n",
    "o_train1=pd.DataFrame(o_train)\n",
    "o_train1.reset_index(level=0, inplace=True)\n",
    "\n",
    "merged_train_all=pd.merge(o_train1, merged_train, on='index')\n",
    "\n",
    "sub1 = merged_train_all[['openness', 'cluster']].dropna()"
   ]
  },
  {
   "cell_type": "code",
   "execution_count": 184,
   "metadata": {},
   "outputs": [
    {
     "data": {
      "text/html": [
       "<table class=\"simpletable\">\n",
       "<caption>OLS Regression Results</caption>\n",
       "<tr>\n",
       "  <th>Dep. Variable:</th>        <td>openness</td>     <th>  R-squared:         </th> <td>   0.191</td>\n",
       "</tr>\n",
       "<tr>\n",
       "  <th>Model:</th>                   <td>OLS</td>       <th>  Adj. R-squared:    </th> <td>   0.163</td>\n",
       "</tr>\n",
       "<tr>\n",
       "  <th>Method:</th>             <td>Least Squares</td>  <th>  F-statistic:       </th> <td>   6.700</td>\n",
       "</tr>\n",
       "<tr>\n",
       "  <th>Date:</th>             <td>Tue, 02 Jun 2020</td> <th>  Prob (F-statistic):</th> <td>0.000410</td>\n",
       "</tr>\n",
       "<tr>\n",
       "  <th>Time:</th>                 <td>18:15:43</td>     <th>  Log-Likelihood:    </th> <td> -58.778</td>\n",
       "</tr>\n",
       "<tr>\n",
       "  <th>No. Observations:</th>      <td>    89</td>      <th>  AIC:               </th> <td>   125.6</td>\n",
       "</tr>\n",
       "<tr>\n",
       "  <th>Df Residuals:</th>          <td>    85</td>      <th>  BIC:               </th> <td>   135.5</td>\n",
       "</tr>\n",
       "<tr>\n",
       "  <th>Df Model:</th>              <td>     3</td>      <th>                     </th>     <td> </td>   \n",
       "</tr>\n",
       "<tr>\n",
       "  <th>Covariance Type:</th>      <td>nonrobust</td>    <th>                     </th>     <td> </td>   \n",
       "</tr>\n",
       "</table>\n",
       "<table class=\"simpletable\">\n",
       "<tr>\n",
       "         <td></td>            <th>coef</th>     <th>std err</th>      <th>t</th>      <th>P>|t|</th>  <th>[0.025</th>    <th>0.975]</th>  \n",
       "</tr>\n",
       "<tr>\n",
       "  <th>Intercept</th>       <td>    0.6878</td> <td>    0.160</td> <td>    4.305</td> <td> 0.000</td> <td>    0.370</td> <td>    1.005</td>\n",
       "</tr>\n",
       "<tr>\n",
       "  <th>C(cluster)[T.1]</th> <td>    0.0964</td> <td>    0.170</td> <td>    0.567</td> <td> 0.572</td> <td>   -0.242</td> <td>    0.434</td>\n",
       "</tr>\n",
       "<tr>\n",
       "  <th>C(cluster)[T.2]</th> <td>   -0.3613</td> <td>    0.375</td> <td>   -0.964</td> <td> 0.338</td> <td>   -1.106</td> <td>    0.384</td>\n",
       "</tr>\n",
       "<tr>\n",
       "  <th>C(cluster)[T.3]</th> <td>    0.7580</td> <td>    0.220</td> <td>    3.442</td> <td> 0.001</td> <td>    0.320</td> <td>    1.196</td>\n",
       "</tr>\n",
       "</table>\n",
       "<table class=\"simpletable\">\n",
       "<tr>\n",
       "  <th>Omnibus:</th>       <td>53.947</td> <th>  Durbin-Watson:     </th> <td>   1.943</td>\n",
       "</tr>\n",
       "<tr>\n",
       "  <th>Prob(Omnibus):</th> <td> 0.000</td> <th>  Jarque-Bera (JB):  </th> <td> 237.222</td>\n",
       "</tr>\n",
       "<tr>\n",
       "  <th>Skew:</th>          <td> 1.914</td> <th>  Prob(JB):          </th> <td>3.08e-52</td>\n",
       "</tr>\n",
       "<tr>\n",
       "  <th>Kurtosis:</th>      <td>10.022</td> <th>  Cond. No.          </th> <td>    10.3</td>\n",
       "</tr>\n",
       "</table><br/><br/>Warnings:<br/>[1] Standard Errors assume that the covariance matrix of the errors is correctly specified."
      ],
      "text/plain": [
       "<class 'statsmodels.iolib.summary.Summary'>\n",
       "\"\"\"\n",
       "                            OLS Regression Results                            \n",
       "==============================================================================\n",
       "Dep. Variable:               openness   R-squared:                       0.191\n",
       "Model:                            OLS   Adj. R-squared:                  0.163\n",
       "Method:                 Least Squares   F-statistic:                     6.700\n",
       "Date:                Tue, 02 Jun 2020   Prob (F-statistic):           0.000410\n",
       "Time:                        18:15:43   Log-Likelihood:                -58.778\n",
       "No. Observations:                  89   AIC:                             125.6\n",
       "Df Residuals:                      85   BIC:                             135.5\n",
       "Df Model:                           3                                         \n",
       "Covariance Type:            nonrobust                                         \n",
       "===================================================================================\n",
       "                      coef    std err          t      P>|t|      [0.025      0.975]\n",
       "-----------------------------------------------------------------------------------\n",
       "Intercept           0.6878      0.160      4.305      0.000       0.370       1.005\n",
       "C(cluster)[T.1]     0.0964      0.170      0.567      0.572      -0.242       0.434\n",
       "C(cluster)[T.2]    -0.3613      0.375     -0.964      0.338      -1.106       0.384\n",
       "C(cluster)[T.3]     0.7580      0.220      3.442      0.001       0.320       1.196\n",
       "==============================================================================\n",
       "Omnibus:                       53.947   Durbin-Watson:                   1.943\n",
       "Prob(Omnibus):                  0.000   Jarque-Bera (JB):              237.222\n",
       "Skew:                           1.914   Prob(JB):                     3.08e-52\n",
       "Kurtosis:                      10.022   Cond. No.                         10.3\n",
       "==============================================================================\n",
       "\n",
       "Warnings:\n",
       "[1] Standard Errors assume that the covariance matrix of the errors is correctly specified.\n",
       "\"\"\""
      ]
     },
     "execution_count": 184,
     "metadata": {},
     "output_type": "execute_result"
    }
   ],
   "source": [
    "gpamod = smf.ols(formula='openness ~ C(cluster)', data=sub1).fit()\n",
    "gpamod.summary()"
   ]
  },
  {
   "cell_type": "markdown",
   "metadata": {},
   "source": [
    "#### Means for Trade Openness by Cluster"
   ]
  },
  {
   "cell_type": "code",
   "execution_count": 187,
   "metadata": {},
   "outputs": [
    {
     "data": {
      "text/html": [
       "<div>\n",
       "<style scoped>\n",
       "    .dataframe tbody tr th:only-of-type {\n",
       "        vertical-align: middle;\n",
       "    }\n",
       "\n",
       "    .dataframe tbody tr th {\n",
       "        vertical-align: top;\n",
       "    }\n",
       "\n",
       "    .dataframe thead th {\n",
       "        text-align: right;\n",
       "    }\n",
       "</style>\n",
       "<table border=\"1\" class=\"dataframe\">\n",
       "  <thead>\n",
       "    <tr style=\"text-align: right;\">\n",
       "      <th></th>\n",
       "      <th>openness</th>\n",
       "    </tr>\n",
       "    <tr>\n",
       "      <th>cluster</th>\n",
       "      <th></th>\n",
       "    </tr>\n",
       "  </thead>\n",
       "  <tbody>\n",
       "    <tr>\n",
       "      <th>0</th>\n",
       "      <td>0.687755</td>\n",
       "    </tr>\n",
       "    <tr>\n",
       "      <th>1</th>\n",
       "      <td>0.784146</td>\n",
       "    </tr>\n",
       "    <tr>\n",
       "      <th>2</th>\n",
       "      <td>0.326460</td>\n",
       "    </tr>\n",
       "    <tr>\n",
       "      <th>3</th>\n",
       "      <td>1.445709</td>\n",
       "    </tr>\n",
       "  </tbody>\n",
       "</table>\n",
       "</div>"
      ],
      "text/plain": [
       "         openness\n",
       "cluster          \n",
       "0        0.687755\n",
       "1        0.784146\n",
       "2        0.326460\n",
       "3        1.445709"
      ]
     },
     "execution_count": 187,
     "metadata": {},
     "output_type": "execute_result"
    }
   ],
   "source": [
    "sub1.groupby('cluster').mean()"
   ]
  },
  {
   "cell_type": "markdown",
   "metadata": {},
   "source": [
    "#### Standard deviations for Trade Openness by cluster"
   ]
  },
  {
   "cell_type": "code",
   "execution_count": 186,
   "metadata": {},
   "outputs": [
    {
     "data": {
      "text/html": [
       "<div>\n",
       "<style scoped>\n",
       "    .dataframe tbody tr th:only-of-type {\n",
       "        vertical-align: middle;\n",
       "    }\n",
       "\n",
       "    .dataframe tbody tr th {\n",
       "        vertical-align: top;\n",
       "    }\n",
       "\n",
       "    .dataframe thead th {\n",
       "        text-align: right;\n",
       "    }\n",
       "</style>\n",
       "<table border=\"1\" class=\"dataframe\">\n",
       "  <thead>\n",
       "    <tr style=\"text-align: right;\">\n",
       "      <th></th>\n",
       "      <th>openness</th>\n",
       "    </tr>\n",
       "    <tr>\n",
       "      <th>cluster</th>\n",
       "      <th></th>\n",
       "    </tr>\n",
       "  </thead>\n",
       "  <tbody>\n",
       "    <tr>\n",
       "      <th>0</th>\n",
       "      <td>0.270746</td>\n",
       "    </tr>\n",
       "    <tr>\n",
       "      <th>1</th>\n",
       "      <td>0.331336</td>\n",
       "    </tr>\n",
       "    <tr>\n",
       "      <th>2</th>\n",
       "      <td>0.077834</td>\n",
       "    </tr>\n",
       "    <tr>\n",
       "      <th>3</th>\n",
       "      <td>1.134078</td>\n",
       "    </tr>\n",
       "  </tbody>\n",
       "</table>\n",
       "</div>"
      ],
      "text/plain": [
       "         openness\n",
       "cluster          \n",
       "0        0.270746\n",
       "1        0.331336\n",
       "2        0.077834\n",
       "3        1.134078"
      ]
     },
     "execution_count": 186,
     "metadata": {},
     "output_type": "execute_result"
    }
   ],
   "source": [
    "sub1.groupby('cluster').std()"
   ]
  },
  {
   "cell_type": "code",
   "execution_count": 188,
   "metadata": {},
   "outputs": [
    {
     "data": {
      "text/html": [
       "<table class=\"simpletable\">\n",
       "<caption>Multiple Comparison of Means - Tukey HSD,FWER=0.05</caption>\n",
       "<tr>\n",
       "  <th>group1</th> <th>group2</th> <th>meandiff</th>  <th>lower</th>   <th>upper</th> <th>reject</th>\n",
       "</tr>\n",
       "<tr>\n",
       "     <td>0</td>      <td>1</td>    <td>0.0964</td>  <td>-0.3491</td> <td>0.5419</td>  <td>False</td>\n",
       "</tr>\n",
       "<tr>\n",
       "     <td>0</td>      <td>2</td>    <td>-0.3613</td> <td>-1.3431</td> <td>0.6206</td>  <td>False</td>\n",
       "</tr>\n",
       "<tr>\n",
       "     <td>0</td>      <td>3</td>     <td>0.758</td>  <td>0.1809</td>   <td>1.335</td>  <td>True</td> \n",
       "</tr>\n",
       "<tr>\n",
       "     <td>1</td>      <td>2</td>    <td>-0.4577</td> <td>-1.3588</td> <td>0.4434</td>  <td>False</td>\n",
       "</tr>\n",
       "<tr>\n",
       "     <td>1</td>      <td>3</td>    <td>0.6616</td>  <td>0.2362</td>  <td>1.0869</td>  <td>True</td> \n",
       "</tr>\n",
       "<tr>\n",
       "     <td>2</td>      <td>3</td>    <td>1.1192</td>  <td>0.1464</td>  <td>2.0921</td>  <td>True</td> \n",
       "</tr>\n",
       "</table>"
      ],
      "text/plain": [
       "<class 'statsmodels.iolib.table.SimpleTable'>"
      ]
     },
     "execution_count": 188,
     "metadata": {},
     "output_type": "execute_result"
    }
   ],
   "source": [
    "mc1 = multi.MultiComparison(sub1['openness'], sub1['cluster'])\n",
    "res1 = mc1.tukeyhsd()\n",
    "res1.summary()"
   ]
  },
  {
   "cell_type": "markdown",
   "metadata": {},
   "source": [
    "## Conclusion \n",
    "\n",
    "F-statistics shows that clusters varied significantly on trade openness. Examination of the means shows that the richest, easiest to do business in countries had the highest trade openness. The second higher trade openness has countries that were the poorest. We can hypothesize that those countries are not benefiting from free trade, and maybe can not stand to global competition. \n",
    "\n",
    "However, the Tukey test shows that a significant difference was observed only between the first and third groups (the second-highest and second-lowest in income levels), between the second and the fourth group (poorest and richest) and between third and fourth groups (the second-highest and the richest)."
   ]
  }
 ],
 "metadata": {
  "kernelspec": {
   "display_name": "Python 3",
   "language": "python",
   "name": "python3"
  },
  "language_info": {
   "codemirror_mode": {
    "name": "ipython",
    "version": 3
   },
   "file_extension": ".py",
   "mimetype": "text/x-python",
   "name": "python",
   "nbconvert_exporter": "python",
   "pygments_lexer": "ipython3",
   "version": "3.7.3"
  }
 },
 "nbformat": 4,
 "nbformat_minor": 2
}
