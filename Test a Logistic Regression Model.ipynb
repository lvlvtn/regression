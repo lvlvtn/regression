{
 "cells": [
  {
   "cell_type": "markdown",
   "metadata": {},
   "source": [
    "# Test a Logistic Regression Model"
   ]
  },
  {
   "cell_type": "markdown",
   "metadata": {},
   "source": [
    "This is an assignment for week 4 of 'Regression Modeling in Practice' course by Wesleyan University.\n",
    "\n",
    "The task at hand is to model a multiple logistic regression for chosen dataset and:\n",
    "1. Discuss the results for the associations between all  explanatory variables and response variable\n",
    "2. Report whether results supported the original hypothesis\n",
    "3. Discuss whether there was evidence of confounding for the association between your primary explanatory and response variable\n",
    "\n",
    "The dataset was prepared earlier and contains information about 217 countries for 2017: GDP, imports, exports, population, ease of doing business, whether a country is lanlocked and WTO status. \n",
    "\n",
    "The original hypotesis is that the country's is that countries that are more open to trade are mo likely be members of World Trade Organization."
   ]
  },
  {
   "cell_type": "markdown",
   "metadata": {},
   "source": [
    "## Prepare the dataset "
   ]
  },
  {
   "cell_type": "code",
   "execution_count": 1,
   "metadata": {},
   "outputs": [],
   "source": [
    "# Import libraries for working with data\n",
    "import pandas as pd\n",
    "import numpy as np"
   ]
  },
  {
   "cell_type": "code",
   "execution_count": 3,
   "metadata": {},
   "outputs": [],
   "source": [
    "# Download prepared csv file\n",
    "data = pd.read_csv('openness_df.csv')"
   ]
  },
  {
   "cell_type": "code",
   "execution_count": 4,
   "metadata": {
    "scrolled": false
   },
   "outputs": [
    {
     "data": {
      "text/html": [
       "<div>\n",
       "<style scoped>\n",
       "    .dataframe tbody tr th:only-of-type {\n",
       "        vertical-align: middle;\n",
       "    }\n",
       "\n",
       "    .dataframe tbody tr th {\n",
       "        vertical-align: top;\n",
       "    }\n",
       "\n",
       "    .dataframe thead th {\n",
       "        text-align: right;\n",
       "    }\n",
       "</style>\n",
       "<table border=\"1\" class=\"dataframe\">\n",
       "  <thead>\n",
       "    <tr style=\"text-align: right;\">\n",
       "      <th></th>\n",
       "      <th>country</th>\n",
       "      <th>year</th>\n",
       "      <th>gdp</th>\n",
       "      <th>gdp_ppc</th>\n",
       "      <th>imports</th>\n",
       "      <th>exports</th>\n",
       "      <th>population</th>\n",
       "      <th>business_ease</th>\n",
       "      <th>code</th>\n",
       "      <th>region</th>\n",
       "      <th>tariff</th>\n",
       "      <th>wto_status</th>\n",
       "      <th>landlocked</th>\n",
       "      <th>openness</th>\n",
       "    </tr>\n",
       "  </thead>\n",
       "  <tbody>\n",
       "    <tr>\n",
       "      <th>105</th>\n",
       "      <td>Korea, Rep.</td>\n",
       "      <td>2017</td>\n",
       "      <td>1.530751e+12</td>\n",
       "      <td>29803.231487</td>\n",
       "      <td>5.769131e+11</td>\n",
       "      <td>6.596155e+11</td>\n",
       "      <td>51361911.0</td>\n",
       "      <td>83.96525</td>\n",
       "      <td>KOR</td>\n",
       "      <td>East Asia &amp; Pacific</td>\n",
       "      <td>8.980737</td>\n",
       "      <td>Member</td>\n",
       "      <td>0</td>\n",
       "      <td>0.807792</td>\n",
       "    </tr>\n",
       "    <tr>\n",
       "      <th>209</th>\n",
       "      <td>Virgin Islands (U.S.)</td>\n",
       "      <td>2017</td>\n",
       "      <td>3.855000e+09</td>\n",
       "      <td>35938.024388</td>\n",
       "      <td>3.029000e+09</td>\n",
       "      <td>2.795000e+09</td>\n",
       "      <td>107268.0</td>\n",
       "      <td>NaN</td>\n",
       "      <td>VIR</td>\n",
       "      <td>Latin America &amp; Caribbean</td>\n",
       "      <td>NaN</td>\n",
       "      <td>No perticipation</td>\n",
       "      <td>0</td>\n",
       "      <td>1.510765</td>\n",
       "    </tr>\n",
       "    <tr>\n",
       "      <th>175</th>\n",
       "      <td>San Marino</td>\n",
       "      <td>2017</td>\n",
       "      <td>1.632860e+09</td>\n",
       "      <td>48494.551411</td>\n",
       "      <td>NaN</td>\n",
       "      <td>NaN</td>\n",
       "      <td>33671.0</td>\n",
       "      <td>61.88410</td>\n",
       "      <td>SMR</td>\n",
       "      <td>Europe &amp; Central Asia</td>\n",
       "      <td>NaN</td>\n",
       "      <td>No perticipation</td>\n",
       "      <td>1</td>\n",
       "      <td>NaN</td>\n",
       "    </tr>\n",
       "    <tr>\n",
       "      <th>61</th>\n",
       "      <td>Ethiopia</td>\n",
       "      <td>2017</td>\n",
       "      <td>8.176044e+10</td>\n",
       "      <td>768.425026</td>\n",
       "      <td>1.919509e+10</td>\n",
       "      <td>6.238595e+09</td>\n",
       "      <td>106400024.0</td>\n",
       "      <td>46.14583</td>\n",
       "      <td>ETH</td>\n",
       "      <td>Sub-Saharan Africa</td>\n",
       "      <td>10.640837</td>\n",
       "      <td>Observer</td>\n",
       "      <td>1</td>\n",
       "      <td>0.311076</td>\n",
       "    </tr>\n",
       "    <tr>\n",
       "      <th>202</th>\n",
       "      <td>Ukraine</td>\n",
       "      <td>2017</td>\n",
       "      <td>1.121904e+11</td>\n",
       "      <td>2640.675677</td>\n",
       "      <td>6.249400e+10</td>\n",
       "      <td>5.386741e+10</td>\n",
       "      <td>44831135.0</td>\n",
       "      <td>68.08579</td>\n",
       "      <td>UKR</td>\n",
       "      <td>Europe &amp; Central Asia</td>\n",
       "      <td>2.917004</td>\n",
       "      <td>Member</td>\n",
       "      <td>0</td>\n",
       "      <td>1.037178</td>\n",
       "    </tr>\n",
       "  </tbody>\n",
       "</table>\n",
       "</div>"
      ],
      "text/plain": [
       "                   country  year           gdp       gdp_ppc       imports  \\\n",
       "105            Korea, Rep.  2017  1.530751e+12  29803.231487  5.769131e+11   \n",
       "209  Virgin Islands (U.S.)  2017  3.855000e+09  35938.024388  3.029000e+09   \n",
       "175             San Marino  2017  1.632860e+09  48494.551411           NaN   \n",
       "61                Ethiopia  2017  8.176044e+10    768.425026  1.919509e+10   \n",
       "202                Ukraine  2017  1.121904e+11   2640.675677  6.249400e+10   \n",
       "\n",
       "          exports   population  business_ease code  \\\n",
       "105  6.596155e+11   51361911.0       83.96525  KOR   \n",
       "209  2.795000e+09     107268.0            NaN  VIR   \n",
       "175           NaN      33671.0       61.88410  SMR   \n",
       "61   6.238595e+09  106400024.0       46.14583  ETH   \n",
       "202  5.386741e+10   44831135.0       68.08579  UKR   \n",
       "\n",
       "                         region     tariff        wto_status  landlocked  \\\n",
       "105         East Asia & Pacific   8.980737            Member           0   \n",
       "209  Latin America & Caribbean         NaN  No perticipation           0   \n",
       "175       Europe & Central Asia        NaN  No perticipation           1   \n",
       "61          Sub-Saharan Africa   10.640837          Observer           1   \n",
       "202       Europe & Central Asia   2.917004            Member           0   \n",
       "\n",
       "     openness  \n",
       "105  0.807792  \n",
       "209  1.510765  \n",
       "175       NaN  \n",
       "61   0.311076  \n",
       "202  1.037178  "
      ]
     },
     "execution_count": 4,
     "metadata": {},
     "output_type": "execute_result"
    }
   ],
   "source": [
    "data.sample(5)"
   ]
  },
  {
   "cell_type": "code",
   "execution_count": 5,
   "metadata": {},
   "outputs": [],
   "source": [
    "# Center quantitative variables \n",
    "data['gdp_ppc_c'] = (data['gdp_ppc'] - data['gdp_ppc'].mean()) \n",
    "data['population_c'] = (data['population'] - data['population'].mean()) \n",
    "data['business_ease_c'] = (data['business_ease'] - data['business_ease'].mean())\n",
    "\n",
    "# Bin WTO status into two categories\n",
    "data[\"wto_status\"] = data[\"wto_status\"].replace({'Member': 1, 'Observer': 0, 'No perticipation': 0})"
   ]
  },
  {
   "cell_type": "markdown",
   "metadata": {},
   "source": [
    "## Logistic Regression Model"
   ]
  },
  {
   "cell_type": "markdown",
   "metadata": {},
   "source": [
    "Logistic regression model for the association between WTO membership & Levels of Income"
   ]
  },
  {
   "cell_type": "code",
   "execution_count": 20,
   "metadata": {},
   "outputs": [
    {
     "name": "stdout",
     "output_type": "stream",
     "text": [
      "Optimization terminated successfully.\n",
      "         Current function value: 0.471728\n",
      "         Iterations 5\n"
     ]
    },
    {
     "data": {
      "text/html": [
       "<table class=\"simpletable\">\n",
       "<caption>Logit Regression Results</caption>\n",
       "<tr>\n",
       "  <th>Dep. Variable:</th>    <td>wto_status</td>    <th>  No. Observations:  </th>  <td>   183</td>  \n",
       "</tr>\n",
       "<tr>\n",
       "  <th>Model:</th>               <td>Logit</td>      <th>  Df Residuals:      </th>  <td>   181</td>  \n",
       "</tr>\n",
       "<tr>\n",
       "  <th>Method:</th>               <td>MLE</td>       <th>  Df Model:          </th>  <td>     1</td>  \n",
       "</tr>\n",
       "<tr>\n",
       "  <th>Date:</th>          <td>Thu, 28 May 2020</td> <th>  Pseudo R-squ.:     </th> <td>0.0003432</td>\n",
       "</tr>\n",
       "<tr>\n",
       "  <th>Time:</th>              <td>19:03:56</td>     <th>  Log-Likelihood:    </th> <td> -86.326</td> \n",
       "</tr>\n",
       "<tr>\n",
       "  <th>converged:</th>           <td>True</td>       <th>  LL-Null:           </th> <td> -86.356</td> \n",
       "</tr>\n",
       "<tr>\n",
       "  <th> </th>                      <td> </td>        <th>  LLR p-value:       </th>  <td>0.8076</td>  \n",
       "</tr>\n",
       "</table>\n",
       "<table class=\"simpletable\">\n",
       "<tr>\n",
       "      <td></td>         <th>coef</th>     <th>std err</th>      <th>z</th>      <th>P>|z|</th>  <th>[0.025</th>    <th>0.975]</th>  \n",
       "</tr>\n",
       "<tr>\n",
       "  <th>Intercept</th> <td>    1.5886</td> <td>    0.361</td> <td>    4.405</td> <td> 0.000</td> <td>    0.882</td> <td>    2.295</td>\n",
       "</tr>\n",
       "<tr>\n",
       "  <th>openness</th>  <td>   -0.0804</td> <td>    0.326</td> <td>   -0.246</td> <td> 0.805</td> <td>   -0.720</td> <td>    0.559</td>\n",
       "</tr>\n",
       "</table>"
      ],
      "text/plain": [
       "<class 'statsmodels.iolib.summary.Summary'>\n",
       "\"\"\"\n",
       "                           Logit Regression Results                           \n",
       "==============================================================================\n",
       "Dep. Variable:             wto_status   No. Observations:                  183\n",
       "Model:                          Logit   Df Residuals:                      181\n",
       "Method:                           MLE   Df Model:                            1\n",
       "Date:                Thu, 28 May 2020   Pseudo R-squ.:               0.0003432\n",
       "Time:                        19:03:56   Log-Likelihood:                -86.326\n",
       "converged:                       True   LL-Null:                       -86.356\n",
       "                                        LLR p-value:                    0.8076\n",
       "==============================================================================\n",
       "                 coef    std err          z      P>|z|      [0.025      0.975]\n",
       "------------------------------------------------------------------------------\n",
       "Intercept      1.5886      0.361      4.405      0.000       0.882       2.295\n",
       "openness      -0.0804      0.326     -0.246      0.805      -0.720       0.559\n",
       "==============================================================================\n",
       "\"\"\""
      ]
     },
     "execution_count": 20,
     "metadata": {},
     "output_type": "execute_result"
    }
   ],
   "source": [
    "# Import statistical libraries\n",
    "import statsmodels.api\n",
    "import statsmodels.formula.api as smf\n",
    "\n",
    "# Build Linear Regression (also called Ordinary Least Squares (OLS) Regression)\n",
    "model = smf.logit('wto_status ~ openness', data=data).fit()\n",
    "model.summary()"
   ]
  },
  {
   "cell_type": "markdown",
   "metadata": {},
   "source": [
    "Unfortunately, it seems that the relationship between membership in WTO and trade openness is not statistically significant."
   ]
  },
  {
   "cell_type": "code",
   "execution_count": 13,
   "metadata": {},
   "outputs": [
    {
     "name": "stdout",
     "output_type": "stream",
     "text": [
      "Optimization terminated successfully.\n",
      "         Current function value: 0.463573\n",
      "         Iterations 6\n"
     ]
    },
    {
     "data": {
      "text/html": [
       "<table class=\"simpletable\">\n",
       "<caption>Logit Regression Results</caption>\n",
       "<tr>\n",
       "  <th>Dep. Variable:</th>    <td>wto_status</td>    <th>  No. Observations:  </th>  <td>   183</td> \n",
       "</tr>\n",
       "<tr>\n",
       "  <th>Model:</th>               <td>Logit</td>      <th>  Df Residuals:      </th>  <td>   180</td> \n",
       "</tr>\n",
       "<tr>\n",
       "  <th>Method:</th>               <td>MLE</td>       <th>  Df Model:          </th>  <td>     2</td> \n",
       "</tr>\n",
       "<tr>\n",
       "  <th>Date:</th>          <td>Thu, 28 May 2020</td> <th>  Pseudo R-squ.:     </th>  <td>0.01762</td>\n",
       "</tr>\n",
       "<tr>\n",
       "  <th>Time:</th>              <td>18:54:28</td>     <th>  Log-Likelihood:    </th> <td> -84.834</td>\n",
       "</tr>\n",
       "<tr>\n",
       "  <th>converged:</th>           <td>True</td>       <th>  LL-Null:           </th> <td> -86.356</td>\n",
       "</tr>\n",
       "<tr>\n",
       "  <th> </th>                      <td> </td>        <th>  LLR p-value:       </th>  <td>0.2183</td> \n",
       "</tr>\n",
       "</table>\n",
       "<table class=\"simpletable\">\n",
       "<tr>\n",
       "      <td></td>         <th>coef</th>     <th>std err</th>      <th>z</th>      <th>P>|z|</th>  <th>[0.025</th>    <th>0.975]</th>  \n",
       "</tr>\n",
       "<tr>\n",
       "  <th>Intercept</th> <td>    1.8972</td> <td>    0.426</td> <td>    4.454</td> <td> 0.000</td> <td>    1.062</td> <td>    2.732</td>\n",
       "</tr>\n",
       "<tr>\n",
       "  <th>openness</th>  <td>   -0.3385</td> <td>    0.373</td> <td>   -0.908</td> <td> 0.364</td> <td>   -1.069</td> <td>    0.392</td>\n",
       "</tr>\n",
       "<tr>\n",
       "  <th>gdp_ppc_c</th> <td> 2.185e-05</td> <td>  1.4e-05</td> <td>    1.564</td> <td> 0.118</td> <td>-5.53e-06</td> <td> 4.92e-05</td>\n",
       "</tr>\n",
       "</table>"
      ],
      "text/plain": [
       "<class 'statsmodels.iolib.summary.Summary'>\n",
       "\"\"\"\n",
       "                           Logit Regression Results                           \n",
       "==============================================================================\n",
       "Dep. Variable:             wto_status   No. Observations:                  183\n",
       "Model:                          Logit   Df Residuals:                      180\n",
       "Method:                           MLE   Df Model:                            2\n",
       "Date:                Thu, 28 May 2020   Pseudo R-squ.:                 0.01762\n",
       "Time:                        18:54:28   Log-Likelihood:                -84.834\n",
       "converged:                       True   LL-Null:                       -86.356\n",
       "                                        LLR p-value:                    0.2183\n",
       "==============================================================================\n",
       "                 coef    std err          z      P>|z|      [0.025      0.975]\n",
       "------------------------------------------------------------------------------\n",
       "Intercept      1.8972      0.426      4.454      0.000       1.062       2.732\n",
       "openness      -0.3385      0.373     -0.908      0.364      -1.069       0.392\n",
       "gdp_ppc_c   2.185e-05    1.4e-05      1.564      0.118   -5.53e-06    4.92e-05\n",
       "==============================================================================\n",
       "\"\"\""
      ]
     },
     "execution_count": 13,
     "metadata": {},
     "output_type": "execute_result"
    }
   ],
   "source": [
    "model = smf.logit('wto_status ~ openness + gdp_ppc_c', data=data).fit()\n",
    "model.summary()"
   ]
  },
  {
   "cell_type": "markdown",
   "metadata": {},
   "source": [
    "The level of income also does not have a statistically significant relationship with WTO membership."
   ]
  },
  {
   "cell_type": "code",
   "execution_count": 19,
   "metadata": {},
   "outputs": [
    {
     "name": "stdout",
     "output_type": "stream",
     "text": [
      "Optimization terminated successfully.\n",
      "         Current function value: 0.391374\n",
      "         Iterations 7\n"
     ]
    },
    {
     "data": {
      "text/html": [
       "<table class=\"simpletable\">\n",
       "<caption>Logit Regression Results</caption>\n",
       "<tr>\n",
       "  <th>Dep. Variable:</th>    <td>wto_status</td>    <th>  No. Observations:  </th>  <td>   175</td> \n",
       "</tr>\n",
       "<tr>\n",
       "  <th>Model:</th>               <td>Logit</td>      <th>  Df Residuals:      </th>  <td>   171</td> \n",
       "</tr>\n",
       "<tr>\n",
       "  <th>Method:</th>               <td>MLE</td>       <th>  Df Model:          </th>  <td>     3</td> \n",
       "</tr>\n",
       "<tr>\n",
       "  <th>Date:</th>          <td>Thu, 28 May 2020</td> <th>  Pseudo R-squ.:     </th>  <td>0.08998</td>\n",
       "</tr>\n",
       "<tr>\n",
       "  <th>Time:</th>              <td>19:00:34</td>     <th>  Log-Likelihood:    </th> <td> -68.490</td>\n",
       "</tr>\n",
       "<tr>\n",
       "  <th>converged:</th>           <td>True</td>       <th>  LL-Null:           </th> <td> -75.263</td>\n",
       "</tr>\n",
       "<tr>\n",
       "  <th> </th>                      <td> </td>        <th>  LLR p-value:       </th> <td>0.003596</td>\n",
       "</tr>\n",
       "</table>\n",
       "<table class=\"simpletable\">\n",
       "<tr>\n",
       "        <td></td>           <th>coef</th>     <th>std err</th>      <th>z</th>      <th>P>|z|</th>  <th>[0.025</th>    <th>0.975]</th>  \n",
       "</tr>\n",
       "<tr>\n",
       "  <th>Intercept</th>     <td>   -1.2176</td> <td>    1.304</td> <td>   -0.934</td> <td> 0.350</td> <td>   -3.774</td> <td>    1.338</td>\n",
       "</tr>\n",
       "<tr>\n",
       "  <th>openness</th>      <td>   -0.3234</td> <td>    0.438</td> <td>   -0.739</td> <td> 0.460</td> <td>   -1.181</td> <td>    0.535</td>\n",
       "</tr>\n",
       "<tr>\n",
       "  <th>gdp_ppc_c</th>     <td> 8.913e-06</td> <td> 2.03e-05</td> <td>    0.439</td> <td> 0.660</td> <td>-3.08e-05</td> <td> 4.87e-05</td>\n",
       "</tr>\n",
       "<tr>\n",
       "  <th>business_ease</th> <td>    0.0553</td> <td>    0.020</td> <td>    2.746</td> <td> 0.006</td> <td>    0.016</td> <td>    0.095</td>\n",
       "</tr>\n",
       "</table>"
      ],
      "text/plain": [
       "<class 'statsmodels.iolib.summary.Summary'>\n",
       "\"\"\"\n",
       "                           Logit Regression Results                           \n",
       "==============================================================================\n",
       "Dep. Variable:             wto_status   No. Observations:                  175\n",
       "Model:                          Logit   Df Residuals:                      171\n",
       "Method:                           MLE   Df Model:                            3\n",
       "Date:                Thu, 28 May 2020   Pseudo R-squ.:                 0.08998\n",
       "Time:                        19:00:34   Log-Likelihood:                -68.490\n",
       "converged:                       True   LL-Null:                       -75.263\n",
       "                                        LLR p-value:                  0.003596\n",
       "=================================================================================\n",
       "                    coef    std err          z      P>|z|      [0.025      0.975]\n",
       "---------------------------------------------------------------------------------\n",
       "Intercept        -1.2176      1.304     -0.934      0.350      -3.774       1.338\n",
       "openness         -0.3234      0.438     -0.739      0.460      -1.181       0.535\n",
       "gdp_ppc_c      8.913e-06   2.03e-05      0.439      0.660   -3.08e-05    4.87e-05\n",
       "business_ease     0.0553      0.020      2.746      0.006       0.016       0.095\n",
       "=================================================================================\n",
       "\"\"\""
      ]
     },
     "execution_count": 19,
     "metadata": {},
     "output_type": "execute_result"
    }
   ],
   "source": [
    "model = smf.logit('wto_status ~ openness + gdp_ppc_c + business_ease', data=data).fit()\n",
    "model.summary()"
   ]
  },
  {
   "cell_type": "markdown",
   "metadata": {},
   "source": [
    "It seems that business_ease does have a statistically significant relationship with WTO membership."
   ]
  },
  {
   "cell_type": "code",
   "execution_count": 25,
   "metadata": {},
   "outputs": [
    {
     "name": "stdout",
     "output_type": "stream",
     "text": [
      "Optimization terminated successfully.\n",
      "         Current function value: 0.389285\n",
      "         Iterations 7\n"
     ]
    },
    {
     "data": {
      "text/html": [
       "<table class=\"simpletable\">\n",
       "<caption>Logit Regression Results</caption>\n",
       "<tr>\n",
       "  <th>Dep. Variable:</th>    <td>wto_status</td>    <th>  No. Observations:  </th>  <td>   175</td> \n",
       "</tr>\n",
       "<tr>\n",
       "  <th>Model:</th>               <td>Logit</td>      <th>  Df Residuals:      </th>  <td>   170</td> \n",
       "</tr>\n",
       "<tr>\n",
       "  <th>Method:</th>               <td>MLE</td>       <th>  Df Model:          </th>  <td>     4</td> \n",
       "</tr>\n",
       "<tr>\n",
       "  <th>Date:</th>          <td>Thu, 28 May 2020</td> <th>  Pseudo R-squ.:     </th>  <td>0.09484</td>\n",
       "</tr>\n",
       "<tr>\n",
       "  <th>Time:</th>              <td>19:40:47</td>     <th>  Log-Likelihood:    </th> <td> -68.125</td>\n",
       "</tr>\n",
       "<tr>\n",
       "  <th>converged:</th>           <td>True</td>       <th>  LL-Null:           </th> <td> -75.263</td>\n",
       "</tr>\n",
       "<tr>\n",
       "  <th> </th>                      <td> </td>        <th>  LLR p-value:       </th> <td>0.006467</td>\n",
       "</tr>\n",
       "</table>\n",
       "<table class=\"simpletable\">\n",
       "<tr>\n",
       "        <td></td>           <th>coef</th>     <th>std err</th>      <th>z</th>      <th>P>|z|</th>  <th>[0.025</th>    <th>0.975]</th>  \n",
       "</tr>\n",
       "<tr>\n",
       "  <th>Intercept</th>     <td>   -1.1740</td> <td>    1.288</td> <td>   -0.912</td> <td> 0.362</td> <td>   -3.698</td> <td>    1.350</td>\n",
       "</tr>\n",
       "<tr>\n",
       "  <th>openness</th>      <td>   -0.3499</td> <td>    0.439</td> <td>   -0.797</td> <td> 0.426</td> <td>   -1.211</td> <td>    0.511</td>\n",
       "</tr>\n",
       "<tr>\n",
       "  <th>gdp_ppc_c</th>     <td> 7.524e-06</td> <td> 1.96e-05</td> <td>    0.385</td> <td> 0.700</td> <td>-3.08e-05</td> <td> 4.58e-05</td>\n",
       "</tr>\n",
       "<tr>\n",
       "  <th>business_ease</th> <td>    0.0567</td> <td>    0.020</td> <td>    2.841</td> <td> 0.004</td> <td>    0.018</td> <td>    0.096</td>\n",
       "</tr>\n",
       "<tr>\n",
       "  <th>landlocked</th>    <td>   -0.4264</td> <td>    0.491</td> <td>   -0.869</td> <td> 0.385</td> <td>   -1.388</td> <td>    0.535</td>\n",
       "</tr>\n",
       "</table>"
      ],
      "text/plain": [
       "<class 'statsmodels.iolib.summary.Summary'>\n",
       "\"\"\"\n",
       "                           Logit Regression Results                           \n",
       "==============================================================================\n",
       "Dep. Variable:             wto_status   No. Observations:                  175\n",
       "Model:                          Logit   Df Residuals:                      170\n",
       "Method:                           MLE   Df Model:                            4\n",
       "Date:                Thu, 28 May 2020   Pseudo R-squ.:                 0.09484\n",
       "Time:                        19:40:47   Log-Likelihood:                -68.125\n",
       "converged:                       True   LL-Null:                       -75.263\n",
       "                                        LLR p-value:                  0.006467\n",
       "=================================================================================\n",
       "                    coef    std err          z      P>|z|      [0.025      0.975]\n",
       "---------------------------------------------------------------------------------\n",
       "Intercept        -1.1740      1.288     -0.912      0.362      -3.698       1.350\n",
       "openness         -0.3499      0.439     -0.797      0.426      -1.211       0.511\n",
       "gdp_ppc_c      7.524e-06   1.96e-05      0.385      0.700   -3.08e-05    4.58e-05\n",
       "business_ease     0.0567      0.020      2.841      0.004       0.018       0.096\n",
       "landlocked       -0.4264      0.491     -0.869      0.385      -1.388       0.535\n",
       "=================================================================================\n",
       "\"\"\""
      ]
     },
     "execution_count": 25,
     "metadata": {},
     "output_type": "execute_result"
    }
   ],
   "source": [
    "model = smf.logit('wto_status ~ openness + gdp_ppc_c + business_ease + landlocked', data=data).fit()\n",
    "model.summary()"
   ]
  },
  {
   "cell_type": "code",
   "execution_count": 26,
   "metadata": {},
   "outputs": [
    {
     "name": "stdout",
     "output_type": "stream",
     "text": [
      "Optimization terminated successfully.\n",
      "         Current function value: 0.325489\n",
      "         Iterations 7\n"
     ]
    },
    {
     "data": {
      "text/html": [
       "<table class=\"simpletable\">\n",
       "<caption>Logit Regression Results</caption>\n",
       "<tr>\n",
       "  <th>Dep. Variable:</th>    <td>wto_status</td>    <th>  No. Observations:  </th>  <td>   135</td> \n",
       "</tr>\n",
       "<tr>\n",
       "  <th>Model:</th>               <td>Logit</td>      <th>  Df Residuals:      </th>  <td>   129</td> \n",
       "</tr>\n",
       "<tr>\n",
       "  <th>Method:</th>               <td>MLE</td>       <th>  Df Model:          </th>  <td>     5</td> \n",
       "</tr>\n",
       "<tr>\n",
       "  <th>Date:</th>          <td>Thu, 28 May 2020</td> <th>  Pseudo R-squ.:     </th>  <td>0.1057</td> \n",
       "</tr>\n",
       "<tr>\n",
       "  <th>Time:</th>              <td>19:40:54</td>     <th>  Log-Likelihood:    </th> <td> -43.941</td>\n",
       "</tr>\n",
       "<tr>\n",
       "  <th>converged:</th>           <td>True</td>       <th>  LL-Null:           </th> <td> -49.135</td>\n",
       "</tr>\n",
       "<tr>\n",
       "  <th> </th>                      <td> </td>        <th>  LLR p-value:       </th>  <td>0.06496</td>\n",
       "</tr>\n",
       "</table>\n",
       "<table class=\"simpletable\">\n",
       "<tr>\n",
       "        <td></td>           <th>coef</th>     <th>std err</th>      <th>z</th>      <th>P>|z|</th>  <th>[0.025</th>    <th>0.975]</th>  \n",
       "</tr>\n",
       "<tr>\n",
       "  <th>Intercept</th>     <td>    1.7375</td> <td>    2.117</td> <td>    0.821</td> <td> 0.412</td> <td>   -2.411</td> <td>    5.886</td>\n",
       "</tr>\n",
       "<tr>\n",
       "  <th>openness</th>      <td>    0.1791</td> <td>    0.687</td> <td>    0.260</td> <td> 0.794</td> <td>   -1.168</td> <td>    1.526</td>\n",
       "</tr>\n",
       "<tr>\n",
       "  <th>gdp_ppc_c</th>     <td>-6.732e-06</td> <td> 2.69e-05</td> <td>   -0.250</td> <td> 0.803</td> <td>-5.95e-05</td> <td> 4.61e-05</td>\n",
       "</tr>\n",
       "<tr>\n",
       "  <th>business_ease</th> <td>    0.0245</td> <td>    0.031</td> <td>    0.794</td> <td> 0.427</td> <td>   -0.036</td> <td>    0.085</td>\n",
       "</tr>\n",
       "<tr>\n",
       "  <th>landlocked</th>    <td>   -0.8753</td> <td>    0.599</td> <td>   -1.462</td> <td> 0.144</td> <td>   -2.048</td> <td>    0.298</td>\n",
       "</tr>\n",
       "<tr>\n",
       "  <th>tariff</th>        <td>   -0.1095</td> <td>    0.058</td> <td>   -1.876</td> <td> 0.061</td> <td>   -0.224</td> <td>    0.005</td>\n",
       "</tr>\n",
       "</table>"
      ],
      "text/plain": [
       "<class 'statsmodels.iolib.summary.Summary'>\n",
       "\"\"\"\n",
       "                           Logit Regression Results                           \n",
       "==============================================================================\n",
       "Dep. Variable:             wto_status   No. Observations:                  135\n",
       "Model:                          Logit   Df Residuals:                      129\n",
       "Method:                           MLE   Df Model:                            5\n",
       "Date:                Thu, 28 May 2020   Pseudo R-squ.:                  0.1057\n",
       "Time:                        19:40:54   Log-Likelihood:                -43.941\n",
       "converged:                       True   LL-Null:                       -49.135\n",
       "                                        LLR p-value:                   0.06496\n",
       "=================================================================================\n",
       "                    coef    std err          z      P>|z|      [0.025      0.975]\n",
       "---------------------------------------------------------------------------------\n",
       "Intercept         1.7375      2.117      0.821      0.412      -2.411       5.886\n",
       "openness          0.1791      0.687      0.260      0.794      -1.168       1.526\n",
       "gdp_ppc_c     -6.732e-06   2.69e-05     -0.250      0.803   -5.95e-05    4.61e-05\n",
       "business_ease     0.0245      0.031      0.794      0.427      -0.036       0.085\n",
       "landlocked       -0.8753      0.599     -1.462      0.144      -2.048       0.298\n",
       "tariff           -0.1095      0.058     -1.876      0.061      -0.224       0.005\n",
       "=================================================================================\n",
       "\"\"\""
      ]
     },
     "execution_count": 26,
     "metadata": {},
     "output_type": "execute_result"
    }
   ],
   "source": [
    "model = smf.logit('wto_status ~ openness + gdp_ppc_c + business_ease + landlocked + tariff', data=data).fit()\n",
    "model.summary()"
   ]
  },
  {
   "cell_type": "markdown",
   "metadata": {},
   "source": [
    "## Odd ratios"
   ]
  },
  {
   "cell_type": "code",
   "execution_count": 24,
   "metadata": {},
   "outputs": [
    {
     "name": "stdout",
     "output_type": "stream",
     "text": [
      "               Lower CI    Upper CI        OR\n",
      "Intercept      0.089732  359.938515  5.683142\n",
      "openness       0.310935    4.601036  1.196087\n",
      "gdp_ppc_c      0.999940    1.000046  0.999993\n",
      "business_ease  0.964711    1.088589  1.024780\n",
      "landlocked     0.128931    1.347072  0.416749\n",
      "tariff         0.799408    1.004912  0.896289\n"
     ]
    }
   ],
   "source": [
    "params = model.params\n",
    "conf = model.conf_int()\n",
    "conf['OR'] = params\n",
    "conf.columns = ['Lower CI', 'Upper CI', 'OR']\n",
    "print (np.exp(conf))"
   ]
  },
  {
   "cell_type": "markdown",
   "metadata": {},
   "source": [
    "## Conclusions"
   ]
  },
  {
   "cell_type": "markdown",
   "metadata": {},
   "source": [
    "The null hypothesis that 'WTO membership does not have a relationship with trade openness' can not be rejected based on this analysis. The analysis also has not found a statistically significant relationship with the income level of the country and whether a country is landlocked. \n",
    "\n",
    "The relationship between WTO membership and 'Ease of doing business' was significant with p = 0.004, but significance disappeared when we accounted for tariffs. We can conclude that tariffs confound the relationship between WTO membership and 'Ease of doing business'.\n",
    "\n",
    "The tariffs do not have a statistically significant relationship with WTO Membership if we set alpha on 0.05. However, it is the most significant in our analysis with p = 0.061. If we would increase alpha to 0.1 (for the sake of practice of interpreting confidence intervals), then we could conclude that relationship is significant. The relationship is negative (since coefficient is negative and the odds ratio is less than one): the less is most favorite nation applied tariff the more likely a country is a member of WTO, which is understandable since membership in WTO often requires to negotiate tariff reductions. It can be said with 95% certainty that for each decrease in tariff the odds of the country being a member of WTO increase by a factor from 0.8 to 1."
   ]
  }
 ],
 "metadata": {
  "kernelspec": {
   "display_name": "Python 3",
   "language": "python",
   "name": "python3"
  },
  "language_info": {
   "codemirror_mode": {
    "name": "ipython",
    "version": 3
   },
   "file_extension": ".py",
   "mimetype": "text/x-python",
   "name": "python",
   "nbconvert_exporter": "python",
   "pygments_lexer": "ipython3",
   "version": "3.7.3"
  }
 },
 "nbformat": 4,
 "nbformat_minor": 2
}
