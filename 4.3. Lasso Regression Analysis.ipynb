{
 "cells": [
  {
   "cell_type": "markdown",
   "metadata": {},
   "source": [
    "# Lasso Regression Analysis"
   ]
  },
  {
   "cell_type": "markdown",
   "metadata": {},
   "source": [
    "This is an assignment for week 3 of the 'Regression Modeling in Practice' course by Wesleyan University.\n",
    "\n",
    "A lasso regression analysis was conducted to identify a subset of variables from a pool of 14 categorical and quantitative independent variables that best predicted a quantitative response variable measuring the trade openness of a country. \n",
    "\n",
    "Categorical predictors include binary variables for WTO membership and landlocked-'ness' of a country and a series of 7 binary categorical variables for the region of the world (East Asia & Pacific, Europe & Central Asia, Latin America & Caribbean, Middle East & North Africa, North America, South Asia, Sub-Saharan Africa). Quantitative predictor variables include income level of a country measured in GDP per capita, imports, exports, score of 'Ease of doing business', the average applied tariff, and economical remoteness. \n",
    "\n",
    "All data were collected for 2017.\n",
    "All predictor variables were standardized to have a mean of zero and a standard deviation of one."
   ]
  },
  {
   "cell_type": "markdown",
   "metadata": {},
   "source": [
    "## Prepare the dataset "
   ]
  },
  {
   "cell_type": "code",
   "execution_count": 5,
   "metadata": {},
   "outputs": [],
   "source": [
    "import pandas as pd\n",
    "import numpy as np\n",
    "import matplotlib.pylab as plt\n",
    "from sklearn.model_selection import train_test_split\n",
    "from sklearn.linear_model import LassoLarsCV\n",
    "from sklearn import preprocessing\n",
    "from sklearn.metrics import mean_squared_error"
   ]
  },
  {
   "cell_type": "code",
   "execution_count": 129,
   "metadata": {},
   "outputs": [],
   "source": [
    "# Download prepared csv file\n",
    "data = pd.read_csv('openness_df.csv')"
   ]
  },
  {
   "cell_type": "code",
   "execution_count": 130,
   "metadata": {
    "scrolled": false
   },
   "outputs": [
    {
     "data": {
      "text/html": [
       "<div>\n",
       "<style scoped>\n",
       "    .dataframe tbody tr th:only-of-type {\n",
       "        vertical-align: middle;\n",
       "    }\n",
       "\n",
       "    .dataframe tbody tr th {\n",
       "        vertical-align: top;\n",
       "    }\n",
       "\n",
       "    .dataframe thead th {\n",
       "        text-align: right;\n",
       "    }\n",
       "</style>\n",
       "<table border=\"1\" class=\"dataframe\">\n",
       "  <thead>\n",
       "    <tr style=\"text-align: right;\">\n",
       "      <th></th>\n",
       "      <th>country</th>\n",
       "      <th>year</th>\n",
       "      <th>gdp</th>\n",
       "      <th>gdp_ppc</th>\n",
       "      <th>imports</th>\n",
       "      <th>exports</th>\n",
       "      <th>population</th>\n",
       "      <th>business_ease</th>\n",
       "      <th>code</th>\n",
       "      <th>region</th>\n",
       "      <th>tariff</th>\n",
       "      <th>wto_status</th>\n",
       "      <th>landlocked</th>\n",
       "      <th>remoteness</th>\n",
       "      <th>openness</th>\n",
       "    </tr>\n",
       "  </thead>\n",
       "  <tbody>\n",
       "    <tr>\n",
       "      <th>186</th>\n",
       "      <td>Seychelles</td>\n",
       "      <td>2017</td>\n",
       "      <td>1.503169e+09</td>\n",
       "      <td>15683.656499</td>\n",
       "      <td>1.535356e+09</td>\n",
       "      <td>1.351237e+09</td>\n",
       "      <td>95843.0</td>\n",
       "      <td>61.51062</td>\n",
       "      <td>SYC</td>\n",
       "      <td>Sub-Saharan Africa</td>\n",
       "      <td>2.974540</td>\n",
       "      <td>Member</td>\n",
       "      <td>0</td>\n",
       "      <td>1.317618e+10</td>\n",
       "      <td>1.920339</td>\n",
       "    </tr>\n",
       "    <tr>\n",
       "      <th>42</th>\n",
       "      <td>Comoros</td>\n",
       "      <td>2017</td>\n",
       "      <td>1.074778e+09</td>\n",
       "      <td>1320.541867</td>\n",
       "      <td>3.037651e+08</td>\n",
       "      <td>1.279128e+08</td>\n",
       "      <td>813892.0</td>\n",
       "      <td>46.87233</td>\n",
       "      <td>COM</td>\n",
       "      <td>Sub-Saharan Africa</td>\n",
       "      <td>6.858742</td>\n",
       "      <td>Observer</td>\n",
       "      <td>0</td>\n",
       "      <td>2.068445e+09</td>\n",
       "      <td>0.401644</td>\n",
       "    </tr>\n",
       "    <tr>\n",
       "      <th>130</th>\n",
       "      <td>Malta</td>\n",
       "      <td>2017</td>\n",
       "      <td>1.276867e+10</td>\n",
       "      <td>27283.544729</td>\n",
       "      <td>1.641361e+10</td>\n",
       "      <td>1.912376e+10</td>\n",
       "      <td>467999.0</td>\n",
       "      <td>65.21409</td>\n",
       "      <td>MLT</td>\n",
       "      <td>Middle East &amp; North Africa</td>\n",
       "      <td>NaN</td>\n",
       "      <td>No perticipation</td>\n",
       "      <td>0</td>\n",
       "      <td>5.261246e+10</td>\n",
       "      <td>2.783169</td>\n",
       "    </tr>\n",
       "    <tr>\n",
       "      <th>97</th>\n",
       "      <td>Jordan</td>\n",
       "      <td>2017</td>\n",
       "      <td>4.070894e+10</td>\n",
       "      <td>4162.820687</td>\n",
       "      <td>2.294085e+10</td>\n",
       "      <td>1.429718e+10</td>\n",
       "      <td>9779173.0</td>\n",
       "      <td>59.92558</td>\n",
       "      <td>JOR</td>\n",
       "      <td>Middle East &amp; North Africa</td>\n",
       "      <td>8.512745</td>\n",
       "      <td>Member</td>\n",
       "      <td>0</td>\n",
       "      <td>4.988212e+10</td>\n",
       "      <td>0.914738</td>\n",
       "    </tr>\n",
       "    <tr>\n",
       "      <th>146</th>\n",
       "      <td>Norway</td>\n",
       "      <td>2017</td>\n",
       "      <td>3.983940e+11</td>\n",
       "      <td>75496.754058</td>\n",
       "      <td>1.307984e+11</td>\n",
       "      <td>1.447485e+11</td>\n",
       "      <td>5276968.0</td>\n",
       "      <td>82.65956</td>\n",
       "      <td>NOR</td>\n",
       "      <td>Europe &amp; Central Asia</td>\n",
       "      <td>2.999611</td>\n",
       "      <td>Member</td>\n",
       "      <td>0</td>\n",
       "      <td>6.319130e+11</td>\n",
       "      <td>0.691644</td>\n",
       "    </tr>\n",
       "  </tbody>\n",
       "</table>\n",
       "</div>"
      ],
      "text/plain": [
       "        country  year           gdp       gdp_ppc       imports       exports  \\\n",
       "186  Seychelles  2017  1.503169e+09  15683.656499  1.535356e+09  1.351237e+09   \n",
       "42      Comoros  2017  1.074778e+09   1320.541867  3.037651e+08  1.279128e+08   \n",
       "130       Malta  2017  1.276867e+10  27283.544729  1.641361e+10  1.912376e+10   \n",
       "97       Jordan  2017  4.070894e+10   4162.820687  2.294085e+10  1.429718e+10   \n",
       "146      Norway  2017  3.983940e+11  75496.754058  1.307984e+11  1.447485e+11   \n",
       "\n",
       "     population  business_ease code                      region    tariff  \\\n",
       "186     95843.0       61.51062  SYC         Sub-Saharan Africa   2.974540   \n",
       "42     813892.0       46.87233  COM         Sub-Saharan Africa   6.858742   \n",
       "130    467999.0       65.21409  MLT  Middle East & North Africa       NaN   \n",
       "97    9779173.0       59.92558  JOR  Middle East & North Africa  8.512745   \n",
       "146   5276968.0       82.65956  NOR       Europe & Central Asia  2.999611   \n",
       "\n",
       "           wto_status  landlocked    remoteness  openness  \n",
       "186            Member           0  1.317618e+10  1.920339  \n",
       "42           Observer           0  2.068445e+09  0.401644  \n",
       "130  No perticipation           0  5.261246e+10  2.783169  \n",
       "97             Member           0  4.988212e+10  0.914738  \n",
       "146            Member           0  6.319130e+11  0.691644  "
      ]
     },
     "execution_count": 130,
     "metadata": {},
     "output_type": "execute_result"
    }
   ],
   "source": [
    "data.sample(5)"
   ]
  },
  {
   "cell_type": "code",
   "execution_count": 131,
   "metadata": {},
   "outputs": [],
   "source": [
    "# Clean the data\n",
    "data = data[data['remoteness'] > 0]\n",
    "data.dropna(inplace=True)\n",
    "\n",
    "# Bin WTO status into two categories\n",
    "data[\"wto_status\"] = data[\"wto_status\"].replace({'Member': 1, 'Observer': 0, 'No perticipation': 0})"
   ]
  },
  {
   "cell_type": "code",
   "execution_count": 132,
   "metadata": {},
   "outputs": [
    {
     "data": {
      "text/html": [
       "<div>\n",
       "<style scoped>\n",
       "    .dataframe tbody tr th:only-of-type {\n",
       "        vertical-align: middle;\n",
       "    }\n",
       "\n",
       "    .dataframe tbody tr th {\n",
       "        vertical-align: top;\n",
       "    }\n",
       "\n",
       "    .dataframe thead th {\n",
       "        text-align: right;\n",
       "    }\n",
       "</style>\n",
       "<table border=\"1\" class=\"dataframe\">\n",
       "  <thead>\n",
       "    <tr style=\"text-align: right;\">\n",
       "      <th></th>\n",
       "      <th>East Asia &amp; Pacific</th>\n",
       "      <th>Europe &amp; Central Asia</th>\n",
       "      <th>Latin America &amp; Caribbean</th>\n",
       "      <th>Middle East &amp; North Africa</th>\n",
       "      <th>North America</th>\n",
       "      <th>South Asia</th>\n",
       "      <th>Sub-Saharan Africa</th>\n",
       "    </tr>\n",
       "  </thead>\n",
       "  <tbody>\n",
       "    <tr>\n",
       "      <th>1</th>\n",
       "      <td>0</td>\n",
       "      <td>0</td>\n",
       "      <td>0</td>\n",
       "      <td>0</td>\n",
       "      <td>0</td>\n",
       "      <td>1</td>\n",
       "      <td>0</td>\n",
       "    </tr>\n",
       "    <tr>\n",
       "      <th>2</th>\n",
       "      <td>0</td>\n",
       "      <td>0</td>\n",
       "      <td>0</td>\n",
       "      <td>0</td>\n",
       "      <td>0</td>\n",
       "      <td>0</td>\n",
       "      <td>1</td>\n",
       "    </tr>\n",
       "    <tr>\n",
       "      <th>3</th>\n",
       "      <td>0</td>\n",
       "      <td>1</td>\n",
       "      <td>0</td>\n",
       "      <td>0</td>\n",
       "      <td>0</td>\n",
       "      <td>0</td>\n",
       "      <td>0</td>\n",
       "    </tr>\n",
       "    <tr>\n",
       "      <th>5</th>\n",
       "      <td>0</td>\n",
       "      <td>0</td>\n",
       "      <td>0</td>\n",
       "      <td>1</td>\n",
       "      <td>0</td>\n",
       "      <td>0</td>\n",
       "      <td>0</td>\n",
       "    </tr>\n",
       "    <tr>\n",
       "      <th>6</th>\n",
       "      <td>0</td>\n",
       "      <td>0</td>\n",
       "      <td>1</td>\n",
       "      <td>0</td>\n",
       "      <td>0</td>\n",
       "      <td>0</td>\n",
       "      <td>0</td>\n",
       "    </tr>\n",
       "  </tbody>\n",
       "</table>\n",
       "</div>"
      ],
      "text/plain": [
       "   East Asia & Pacific  Europe & Central Asia  Latin America & Caribbean   \\\n",
       "1                    0                      0                           0   \n",
       "2                    0                      0                           0   \n",
       "3                    0                      1                           0   \n",
       "5                    0                      0                           0   \n",
       "6                    0                      0                           1   \n",
       "\n",
       "   Middle East & North Africa  North America  South Asia  Sub-Saharan Africa   \n",
       "1                           0              0           1                    0  \n",
       "2                           0              0           0                    1  \n",
       "3                           0              0           0                    0  \n",
       "5                           1              0           0                    0  \n",
       "6                           0              0           0                    0  "
      ]
     },
     "execution_count": 132,
     "metadata": {},
     "output_type": "execute_result"
    }
   ],
   "source": [
    "# Create dummy variables from region column\n",
    "dummy = pd.get_dummies(data['region'])\n",
    "dummy.head()"
   ]
  },
  {
   "cell_type": "code",
   "execution_count": 133,
   "metadata": {},
   "outputs": [
    {
     "name": "stdout",
     "output_type": "stream",
     "text": [
      "<class 'pandas.core.frame.DataFrame'>\n",
      "Int64Index: 128 entries, 1 to 218\n",
      "Data columns (total 7 columns):\n",
      "east_asia         128 non-null int64\n",
      "europe            128 non-null int64\n",
      "latin_america     128 non-null int64\n",
      "middle_east       128 non-null int64\n",
      "north_america     128 non-null int64\n",
      "south_asia        128 non-null int64\n",
      "sub_sah_africa    128 non-null int64\n",
      "dtypes: int64(7)\n",
      "memory usage: 8.0 KB\n"
     ]
    }
   ],
   "source": [
    "dummy.columns = ['east_asia','europe','latin_america','middle_east','north_america','south_asia','sub_sah_africa']\n",
    "dummy = dummy.apply(lambda x: x.astype(int))\n",
    "dummy.info()"
   ]
  },
  {
   "cell_type": "code",
   "execution_count": 134,
   "metadata": {},
   "outputs": [
    {
     "data": {
      "text/html": [
       "<div>\n",
       "<style scoped>\n",
       "    .dataframe tbody tr th:only-of-type {\n",
       "        vertical-align: middle;\n",
       "    }\n",
       "\n",
       "    .dataframe tbody tr th {\n",
       "        vertical-align: top;\n",
       "    }\n",
       "\n",
       "    .dataframe thead th {\n",
       "        text-align: right;\n",
       "    }\n",
       "</style>\n",
       "<table border=\"1\" class=\"dataframe\">\n",
       "  <thead>\n",
       "    <tr style=\"text-align: right;\">\n",
       "      <th></th>\n",
       "      <th>country</th>\n",
       "      <th>year</th>\n",
       "      <th>gdp</th>\n",
       "      <th>gdp_ppc</th>\n",
       "      <th>imports</th>\n",
       "      <th>exports</th>\n",
       "      <th>population</th>\n",
       "      <th>business_ease</th>\n",
       "      <th>code</th>\n",
       "      <th>region</th>\n",
       "      <th>...</th>\n",
       "      <th>landlocked</th>\n",
       "      <th>remoteness</th>\n",
       "      <th>openness</th>\n",
       "      <th>east_asia</th>\n",
       "      <th>europe</th>\n",
       "      <th>latin_america</th>\n",
       "      <th>middle_east</th>\n",
       "      <th>north_america</th>\n",
       "      <th>south_asia</th>\n",
       "      <th>sub_sah_africa</th>\n",
       "    </tr>\n",
       "  </thead>\n",
       "  <tbody>\n",
       "    <tr>\n",
       "      <th>1</th>\n",
       "      <td>Afghanistan</td>\n",
       "      <td>2017</td>\n",
       "      <td>2.019176e+10</td>\n",
       "      <td>556.302139</td>\n",
       "      <td>9.153344e+09</td>\n",
       "      <td>1.192286e+09</td>\n",
       "      <td>36296400.0</td>\n",
       "      <td>37.13062</td>\n",
       "      <td>AFG</td>\n",
       "      <td>South Asia</td>\n",
       "      <td>...</td>\n",
       "      <td>1</td>\n",
       "      <td>7.128366e+09</td>\n",
       "      <td>0.512369</td>\n",
       "      <td>0</td>\n",
       "      <td>0</td>\n",
       "      <td>0</td>\n",
       "      <td>0</td>\n",
       "      <td>0</td>\n",
       "      <td>1</td>\n",
       "      <td>0</td>\n",
       "    </tr>\n",
       "    <tr>\n",
       "      <th>2</th>\n",
       "      <td>Angola</td>\n",
       "      <td>2017</td>\n",
       "      <td>1.221238e+11</td>\n",
       "      <td>4095.812942</td>\n",
       "      <td>2.839711e+10</td>\n",
       "      <td>3.542092e+10</td>\n",
       "      <td>29816748.0</td>\n",
       "      <td>39.00774</td>\n",
       "      <td>AGO</td>\n",
       "      <td>Sub-Saharan Africa</td>\n",
       "      <td>...</td>\n",
       "      <td>0</td>\n",
       "      <td>8.959651e+10</td>\n",
       "      <td>0.522568</td>\n",
       "      <td>0</td>\n",
       "      <td>0</td>\n",
       "      <td>0</td>\n",
       "      <td>0</td>\n",
       "      <td>0</td>\n",
       "      <td>0</td>\n",
       "      <td>1</td>\n",
       "    </tr>\n",
       "    <tr>\n",
       "      <th>3</th>\n",
       "      <td>Albania</td>\n",
       "      <td>2017</td>\n",
       "      <td>1.302506e+10</td>\n",
       "      <td>4532.890162</td>\n",
       "      <td>6.070288e+09</td>\n",
       "      <td>4.110274e+09</td>\n",
       "      <td>2873457.0</td>\n",
       "      <td>66.83770</td>\n",
       "      <td>ALB</td>\n",
       "      <td>Europe &amp; Central Asia</td>\n",
       "      <td>...</td>\n",
       "      <td>0</td>\n",
       "      <td>3.182474e+10</td>\n",
       "      <td>0.781613</td>\n",
       "      <td>0</td>\n",
       "      <td>1</td>\n",
       "      <td>0</td>\n",
       "      <td>0</td>\n",
       "      <td>0</td>\n",
       "      <td>0</td>\n",
       "      <td>0</td>\n",
       "    </tr>\n",
       "    <tr>\n",
       "      <th>5</th>\n",
       "      <td>United Arab Emirates</td>\n",
       "      <td>2017</td>\n",
       "      <td>3.777011e+11</td>\n",
       "      <td>39811.634702</td>\n",
       "      <td>2.907828e+11</td>\n",
       "      <td>3.840436e+11</td>\n",
       "      <td>9487203.0</td>\n",
       "      <td>79.30036</td>\n",
       "      <td>ARE</td>\n",
       "      <td>Middle East &amp; North Africa</td>\n",
       "      <td>...</td>\n",
       "      <td>0</td>\n",
       "      <td>2.703819e+12</td>\n",
       "      <td>1.786668</td>\n",
       "      <td>0</td>\n",
       "      <td>0</td>\n",
       "      <td>0</td>\n",
       "      <td>1</td>\n",
       "      <td>0</td>\n",
       "      <td>0</td>\n",
       "      <td>0</td>\n",
       "    </tr>\n",
       "    <tr>\n",
       "      <th>6</th>\n",
       "      <td>Argentina</td>\n",
       "      <td>2017</td>\n",
       "      <td>6.426959e+11</td>\n",
       "      <td>14591.863381</td>\n",
       "      <td>8.985281e+10</td>\n",
       "      <td>7.225651e+10</td>\n",
       "      <td>44044811.0</td>\n",
       "      <td>57.31005</td>\n",
       "      <td>ARG</td>\n",
       "      <td>Latin America &amp; Caribbean</td>\n",
       "      <td>...</td>\n",
       "      <td>0</td>\n",
       "      <td>2.505941e+11</td>\n",
       "      <td>0.252233</td>\n",
       "      <td>0</td>\n",
       "      <td>0</td>\n",
       "      <td>1</td>\n",
       "      <td>0</td>\n",
       "      <td>0</td>\n",
       "      <td>0</td>\n",
       "      <td>0</td>\n",
       "    </tr>\n",
       "  </tbody>\n",
       "</table>\n",
       "<p>5 rows × 22 columns</p>\n",
       "</div>"
      ],
      "text/plain": [
       "                country  year           gdp       gdp_ppc       imports  \\\n",
       "1           Afghanistan  2017  2.019176e+10    556.302139  9.153344e+09   \n",
       "2                Angola  2017  1.221238e+11   4095.812942  2.839711e+10   \n",
       "3               Albania  2017  1.302506e+10   4532.890162  6.070288e+09   \n",
       "5  United Arab Emirates  2017  3.777011e+11  39811.634702  2.907828e+11   \n",
       "6             Argentina  2017  6.426959e+11  14591.863381  8.985281e+10   \n",
       "\n",
       "        exports  population  business_ease code                      region  \\\n",
       "1  1.192286e+09  36296400.0       37.13062  AFG                  South Asia   \n",
       "2  3.542092e+10  29816748.0       39.00774  AGO         Sub-Saharan Africa    \n",
       "3  4.110274e+09   2873457.0       66.83770  ALB       Europe & Central Asia   \n",
       "5  3.840436e+11   9487203.0       79.30036  ARE  Middle East & North Africa   \n",
       "6  7.225651e+10  44044811.0       57.31005  ARG  Latin America & Caribbean    \n",
       "\n",
       "   ...  landlocked    remoteness  openness  east_asia  europe  latin_america  \\\n",
       "1  ...           1  7.128366e+09  0.512369          0       0              0   \n",
       "2  ...           0  8.959651e+10  0.522568          0       0              0   \n",
       "3  ...           0  3.182474e+10  0.781613          0       1              0   \n",
       "5  ...           0  2.703819e+12  1.786668          0       0              0   \n",
       "6  ...           0  2.505941e+11  0.252233          0       0              1   \n",
       "\n",
       "   middle_east  north_america  south_asia  sub_sah_africa  \n",
       "1            0              0           1               0  \n",
       "2            0              0           0               1  \n",
       "3            0              0           0               0  \n",
       "5            1              0           0               0  \n",
       "6            0              0           0               0  \n",
       "\n",
       "[5 rows x 22 columns]"
      ]
     },
     "execution_count": 134,
     "metadata": {},
     "output_type": "execute_result"
    }
   ],
   "source": [
    "data = pd.concat([data,dummy], axis=1)\n",
    "data.head()"
   ]
  },
  {
   "cell_type": "markdown",
   "metadata": {},
   "source": [
    "Trying to standardize predictors, I've got the error 'UserWarning: Numerical issues were encountered when centering the data and might not be solved. Dataset may contain too large values. You may need to prescale your features.' So I've decided to convert imports, exports and remoteness to millions."
   ]
  },
  {
   "cell_type": "code",
   "execution_count": 136,
   "metadata": {},
   "outputs": [],
   "source": [
    "# Set values in millions\n",
    "data['imports_m'] = data['imports'] / 1000000000\n",
    "data['exports_m'] = data['exports'] / 1000000000\n",
    "data['remoteness_m'] = data['remoteness'] / 1000000000"
   ]
  },
  {
   "cell_type": "code",
   "execution_count": 137,
   "metadata": {},
   "outputs": [],
   "source": [
    "# Select predictor variables and target variable as separate data sets\n",
    "predvar = data[['gdp_ppc','imports_m','exports_m','business_ease','landlocked','remoteness_m','wto_status','tariff','east_asia','europe','latin_america','middle_east','north_america','south_asia','sub_sah_africa']]\n",
    "\n",
    "target = data.openness"
   ]
  },
  {
   "cell_type": "code",
   "execution_count": 138,
   "metadata": {},
   "outputs": [],
   "source": [
    "# standardize predictors to have mean=0 and sd=1\n",
    "predictors=predvar.copy()\n",
    "\n",
    "predictors['gdp_ppc']=preprocessing.scale(predictors['gdp_ppc'].astype('float64'))\n",
    "predictors['imports_m']=preprocessing.scale(predictors['imports_m'].astype('float64'))\n",
    "predictors['exports_m']=preprocessing.scale(predictors['exports_m'].astype('float64'))\n",
    "predictors['business_ease']=preprocessing.scale(predictors['business_ease'].astype('float64'))\n",
    "predictors['remoteness_m']=preprocessing.scale(predictors['remoteness_m'].astype('float64'))\n",
    "predictors['wto_status']=preprocessing.scale(predictors['wto_status'].astype('float64'))\n",
    "predictors['tariff']=preprocessing.scale(predictors['tariff'].astype('float64'))\n",
    "predictors['east_asia']=preprocessing.scale(predictors['east_asia'].astype('float64'))\n",
    "predictors['europe']=preprocessing.scale(predictors['europe'].astype('float64'))\n",
    "predictors['latin_america']=preprocessing.scale(predictors['latin_america'].astype('float64'))\n",
    "predictors['middle_east']=preprocessing.scale(predictors['middle_east'].astype('float64'))\n",
    "predictors['north_america']=preprocessing.scale(predictors['north_america'].astype('float64'))\n",
    "predictors['south_asia']=preprocessing.scale(predictors['south_asia'].astype('float64'))\n",
    "predictors['sub_sah_africa']=preprocessing.scale(predictors['sub_sah_africa'].astype('float64'))"
   ]
  },
  {
   "cell_type": "code",
   "execution_count": 139,
   "metadata": {},
   "outputs": [
    {
     "data": {
      "text/html": [
       "<div>\n",
       "<style scoped>\n",
       "    .dataframe tbody tr th:only-of-type {\n",
       "        vertical-align: middle;\n",
       "    }\n",
       "\n",
       "    .dataframe tbody tr th {\n",
       "        vertical-align: top;\n",
       "    }\n",
       "\n",
       "    .dataframe thead th {\n",
       "        text-align: right;\n",
       "    }\n",
       "</style>\n",
       "<table border=\"1\" class=\"dataframe\">\n",
       "  <thead>\n",
       "    <tr style=\"text-align: right;\">\n",
       "      <th></th>\n",
       "      <th>gdp_ppc</th>\n",
       "      <th>imports_m</th>\n",
       "      <th>exports_m</th>\n",
       "      <th>business_ease</th>\n",
       "      <th>landlocked</th>\n",
       "      <th>remoteness_m</th>\n",
       "      <th>wto_status</th>\n",
       "      <th>tariff</th>\n",
       "      <th>east_asia</th>\n",
       "      <th>europe</th>\n",
       "      <th>latin_america</th>\n",
       "      <th>middle_east</th>\n",
       "      <th>north_america</th>\n",
       "      <th>south_asia</th>\n",
       "      <th>sub_sah_africa</th>\n",
       "    </tr>\n",
       "  </thead>\n",
       "  <tbody>\n",
       "    <tr>\n",
       "      <th>count</th>\n",
       "      <td>1.280000e+02</td>\n",
       "      <td>1.280000e+02</td>\n",
       "      <td>1.280000e+02</td>\n",
       "      <td>1.280000e+02</td>\n",
       "      <td>128.000000</td>\n",
       "      <td>1.280000e+02</td>\n",
       "      <td>1.280000e+02</td>\n",
       "      <td>1.280000e+02</td>\n",
       "      <td>1.280000e+02</td>\n",
       "      <td>1.280000e+02</td>\n",
       "      <td>1.280000e+02</td>\n",
       "      <td>1.280000e+02</td>\n",
       "      <td>1.280000e+02</td>\n",
       "      <td>1.280000e+02</td>\n",
       "      <td>1.280000e+02</td>\n",
       "    </tr>\n",
       "    <tr>\n",
       "      <th>mean</th>\n",
       "      <td>-6.158268e-17</td>\n",
       "      <td>4.770490e-18</td>\n",
       "      <td>3.989864e-17</td>\n",
       "      <td>1.335737e-16</td>\n",
       "      <td>0.226562</td>\n",
       "      <td>-4.119968e-17</td>\n",
       "      <td>-2.081668e-17</td>\n",
       "      <td>-3.469447e-18</td>\n",
       "      <td>9.801188e-17</td>\n",
       "      <td>2.324529e-16</td>\n",
       "      <td>9.714451e-17</td>\n",
       "      <td>1.387779e-17</td>\n",
       "      <td>-8.543513e-17</td>\n",
       "      <td>-3.122502e-17</td>\n",
       "      <td>-3.122502e-17</td>\n",
       "    </tr>\n",
       "    <tr>\n",
       "      <th>std</th>\n",
       "      <td>1.003929e+00</td>\n",
       "      <td>1.003929e+00</td>\n",
       "      <td>1.003929e+00</td>\n",
       "      <td>1.003929e+00</td>\n",
       "      <td>0.420252</td>\n",
       "      <td>1.003929e+00</td>\n",
       "      <td>1.003929e+00</td>\n",
       "      <td>1.003929e+00</td>\n",
       "      <td>1.003929e+00</td>\n",
       "      <td>1.003929e+00</td>\n",
       "      <td>1.003929e+00</td>\n",
       "      <td>1.003929e+00</td>\n",
       "      <td>1.003929e+00</td>\n",
       "      <td>1.003929e+00</td>\n",
       "      <td>1.003929e+00</td>\n",
       "    </tr>\n",
       "    <tr>\n",
       "      <th>min</th>\n",
       "      <td>-6.425028e-01</td>\n",
       "      <td>-3.252396e-01</td>\n",
       "      <td>-3.417008e-01</td>\n",
       "      <td>-2.353611e+00</td>\n",
       "      <td>0.000000</td>\n",
       "      <td>-2.763874e-01</td>\n",
       "      <td>-2.853569e+00</td>\n",
       "      <td>-1.763802e+00</td>\n",
       "      <td>-4.303315e-01</td>\n",
       "      <td>-4.045199e-01</td>\n",
       "      <td>-5.170365e-01</td>\n",
       "      <td>-3.643396e-01</td>\n",
       "      <td>-1.259882e-01</td>\n",
       "      <td>-2.581989e-01</td>\n",
       "      <td>-6.497863e-01</td>\n",
       "    </tr>\n",
       "    <tr>\n",
       "      <th>25%</th>\n",
       "      <td>-5.671389e-01</td>\n",
       "      <td>-3.115713e-01</td>\n",
       "      <td>-3.313325e-01</td>\n",
       "      <td>-6.607311e-01</td>\n",
       "      <td>0.000000</td>\n",
       "      <td>-2.727513e-01</td>\n",
       "      <td>3.504383e-01</td>\n",
       "      <td>-6.859902e-01</td>\n",
       "      <td>-4.303315e-01</td>\n",
       "      <td>-4.045199e-01</td>\n",
       "      <td>-5.170365e-01</td>\n",
       "      <td>-3.643396e-01</td>\n",
       "      <td>-1.259882e-01</td>\n",
       "      <td>-2.581989e-01</td>\n",
       "      <td>-6.497863e-01</td>\n",
       "    </tr>\n",
       "    <tr>\n",
       "      <th>50%</th>\n",
       "      <td>-4.091457e-01</td>\n",
       "      <td>-2.902168e-01</td>\n",
       "      <td>-3.084505e-01</td>\n",
       "      <td>-4.590741e-02</td>\n",
       "      <td>0.000000</td>\n",
       "      <td>-2.607740e-01</td>\n",
       "      <td>3.504383e-01</td>\n",
       "      <td>-1.560385e-01</td>\n",
       "      <td>-4.303315e-01</td>\n",
       "      <td>-4.045199e-01</td>\n",
       "      <td>-5.170365e-01</td>\n",
       "      <td>-3.643396e-01</td>\n",
       "      <td>-1.259882e-01</td>\n",
       "      <td>-2.581989e-01</td>\n",
       "      <td>-6.497863e-01</td>\n",
       "    </tr>\n",
       "    <tr>\n",
       "      <th>75%</th>\n",
       "      <td>-3.179231e-02</td>\n",
       "      <td>-1.641904e-01</td>\n",
       "      <td>-1.804820e-01</td>\n",
       "      <td>6.609756e-01</td>\n",
       "      <td>0.000000</td>\n",
       "      <td>-1.927169e-01</td>\n",
       "      <td>3.504383e-01</td>\n",
       "      <td>5.337774e-01</td>\n",
       "      <td>-4.303315e-01</td>\n",
       "      <td>-4.045199e-01</td>\n",
       "      <td>-5.170365e-01</td>\n",
       "      <td>-3.643396e-01</td>\n",
       "      <td>-1.259882e-01</td>\n",
       "      <td>-2.581989e-01</td>\n",
       "      <td>1.538968e+00</td>\n",
       "    </tr>\n",
       "    <tr>\n",
       "      <th>max</th>\n",
       "      <td>4.157212e+00</td>\n",
       "      <td>8.165968e+00</td>\n",
       "      <td>7.093637e+00</td>\n",
       "      <td>2.137319e+00</td>\n",
       "      <td>1.000000</td>\n",
       "      <td>8.510663e+00</td>\n",
       "      <td>3.504383e-01</td>\n",
       "      <td>4.870599e+00</td>\n",
       "      <td>2.323790e+00</td>\n",
       "      <td>2.472066e+00</td>\n",
       "      <td>1.934099e+00</td>\n",
       "      <td>2.744692e+00</td>\n",
       "      <td>7.937254e+00</td>\n",
       "      <td>3.872983e+00</td>\n",
       "      <td>1.538968e+00</td>\n",
       "    </tr>\n",
       "  </tbody>\n",
       "</table>\n",
       "</div>"
      ],
      "text/plain": [
       "            gdp_ppc     imports_m     exports_m  business_ease  landlocked  \\\n",
       "count  1.280000e+02  1.280000e+02  1.280000e+02   1.280000e+02  128.000000   \n",
       "mean  -6.158268e-17  4.770490e-18  3.989864e-17   1.335737e-16    0.226562   \n",
       "std    1.003929e+00  1.003929e+00  1.003929e+00   1.003929e+00    0.420252   \n",
       "min   -6.425028e-01 -3.252396e-01 -3.417008e-01  -2.353611e+00    0.000000   \n",
       "25%   -5.671389e-01 -3.115713e-01 -3.313325e-01  -6.607311e-01    0.000000   \n",
       "50%   -4.091457e-01 -2.902168e-01 -3.084505e-01  -4.590741e-02    0.000000   \n",
       "75%   -3.179231e-02 -1.641904e-01 -1.804820e-01   6.609756e-01    0.000000   \n",
       "max    4.157212e+00  8.165968e+00  7.093637e+00   2.137319e+00    1.000000   \n",
       "\n",
       "       remoteness_m    wto_status        tariff     east_asia        europe  \\\n",
       "count  1.280000e+02  1.280000e+02  1.280000e+02  1.280000e+02  1.280000e+02   \n",
       "mean  -4.119968e-17 -2.081668e-17 -3.469447e-18  9.801188e-17  2.324529e-16   \n",
       "std    1.003929e+00  1.003929e+00  1.003929e+00  1.003929e+00  1.003929e+00   \n",
       "min   -2.763874e-01 -2.853569e+00 -1.763802e+00 -4.303315e-01 -4.045199e-01   \n",
       "25%   -2.727513e-01  3.504383e-01 -6.859902e-01 -4.303315e-01 -4.045199e-01   \n",
       "50%   -2.607740e-01  3.504383e-01 -1.560385e-01 -4.303315e-01 -4.045199e-01   \n",
       "75%   -1.927169e-01  3.504383e-01  5.337774e-01 -4.303315e-01 -4.045199e-01   \n",
       "max    8.510663e+00  3.504383e-01  4.870599e+00  2.323790e+00  2.472066e+00   \n",
       "\n",
       "       latin_america   middle_east  north_america    south_asia  \\\n",
       "count   1.280000e+02  1.280000e+02   1.280000e+02  1.280000e+02   \n",
       "mean    9.714451e-17  1.387779e-17  -8.543513e-17 -3.122502e-17   \n",
       "std     1.003929e+00  1.003929e+00   1.003929e+00  1.003929e+00   \n",
       "min    -5.170365e-01 -3.643396e-01  -1.259882e-01 -2.581989e-01   \n",
       "25%    -5.170365e-01 -3.643396e-01  -1.259882e-01 -2.581989e-01   \n",
       "50%    -5.170365e-01 -3.643396e-01  -1.259882e-01 -2.581989e-01   \n",
       "75%    -5.170365e-01 -3.643396e-01  -1.259882e-01 -2.581989e-01   \n",
       "max     1.934099e+00  2.744692e+00   7.937254e+00  3.872983e+00   \n",
       "\n",
       "       sub_sah_africa  \n",
       "count    1.280000e+02  \n",
       "mean    -3.122502e-17  \n",
       "std      1.003929e+00  \n",
       "min     -6.497863e-01  \n",
       "25%     -6.497863e-01  \n",
       "50%     -6.497863e-01  \n",
       "75%      1.538968e+00  \n",
       "max      1.538968e+00  "
      ]
     },
     "execution_count": 139,
     "metadata": {},
     "output_type": "execute_result"
    }
   ],
   "source": [
    "predictors.describe()"
   ]
  },
  {
   "cell_type": "markdown",
   "metadata": {},
   "source": [
    "## Running the Lasso Regression"
   ]
  },
  {
   "cell_type": "code",
   "execution_count": 148,
   "metadata": {
    "scrolled": false
   },
   "outputs": [
    {
     "name": "stdout",
     "output_type": "stream",
     "text": [
      "(89, 15)\n",
      "(39, 15)\n",
      "(89,)\n",
      "(39,)\n"
     ]
    },
    {
     "data": {
      "text/plain": [
       "{'gdp_ppc': 0.09970083736825901,\n",
       " 'imports_m': 0.0,\n",
       " 'exports_m': 0.0,\n",
       " 'business_ease': 0.06749964162175397,\n",
       " 'landlocked': -0.030842695821895798,\n",
       " 'remoteness_m': -0.06036891128589344,\n",
       " 'wto_status': 0.00107271591419221,\n",
       " 'tariff': 0.0,\n",
       " 'east_asia': 0.12850545328504345,\n",
       " 'europe': 0.0,\n",
       " 'latin_america': 0.0,\n",
       " 'middle_east': 0.0,\n",
       " 'north_america': -0.037992783003342634,\n",
       " 'south_asia': 0.0,\n",
       " 'sub_sah_africa': 0.0}"
      ]
     },
     "execution_count": 148,
     "metadata": {},
     "output_type": "execute_result"
    }
   ],
   "source": [
    "# split data into train and test sets\n",
    "pred_train, pred_test, tar_train, tar_test = train_test_split(predictors, target, \n",
    "                                                              test_size=.3, random_state=123)\n",
    "\n",
    "print(pred_train.shape)\n",
    "print(pred_test.shape)\n",
    "print(tar_train.shape)\n",
    "print(tar_test.shape)\n",
    "\n",
    "# specify the lasso regression model\n",
    "model=LassoLarsCV(cv=10, precompute=False).fit(pred_train,tar_train)\n",
    "\n",
    "# print variable names and regression coefficients\n",
    "dict(zip(predictors.columns, model.coef_))"
   ]
  },
  {
   "cell_type": "markdown",
   "metadata": {},
   "source": [
    "Data were randomly split into a training set that included 70% of the observations (N=89) and a test set that included 30% of the observations (N=39). The least angle regression algorithm with k=10 fold cross validation was used to estimate the lasso regression model in the training set, and the model was validated using the test set. The change in the cross validation average (mean) squared error at each step was used to identify the best subset of predictor variables."
   ]
  },
  {
   "cell_type": "markdown",
   "metadata": {},
   "source": [
    "## Visualization"
   ]
  },
  {
   "cell_type": "code",
   "execution_count": 141,
   "metadata": {},
   "outputs": [
    {
     "data": {
      "text/plain": [
       "([0, 1, 2, 3, 4, 5, 6, 7, 8, 9, 10, 11, 12, 13, 14],\n",
       " <a list of 15 Text xticklabel objects>)"
      ]
     },
     "execution_count": 141,
     "metadata": {},
     "output_type": "execute_result"
    },
    {
     "data": {
      "image/png": "[encoded data removed]",
      "text/plain": [
       "<Figure size 720x576 with 1 Axes>"
      ]
     },
     "metadata": {
      "needs_background": "light"
     },
     "output_type": "display_data"
    }
   ],
   "source": [
    "plt.figure(figsize=(10,8))\n",
    "plt.bar(predictors.columns, model.coef_)\n",
    "plt.hlines(0,-1,17)\n",
    "plt.xticks(rotation='vertical')"
   ]
  },
  {
   "cell_type": "markdown",
   "metadata": {},
   "source": [
    "### The coefficient progression"
   ]
  },
  {
   "cell_type": "code",
   "execution_count": 142,
   "metadata": {
    "scrolled": false
   },
   "outputs": [
    {
     "data": {
      "text/plain": [
       "<matplotlib.legend.Legend at 0x11f829fd0>"
      ]
     },
     "execution_count": 142,
     "metadata": {},
     "output_type": "execute_result"
    },
    {
     "data": {
      "image/png": "[encoded data removed]",
      "text/plain": [
       "<Figure size 720x576 with 1 Axes>"
      ]
     },
     "metadata": {
      "needs_background": "light"
     },
     "output_type": "display_data"
    }
   ],
   "source": [
    "plt.figure(figsize=(10,8))\n",
    "m_log_alphas = -np.log10(model.alphas_)\n",
    "ax = plt.gca()\n",
    "plt.plot(m_log_alphas, model.coef_path_.T)\n",
    "plt.axvline(-np.log10(model.alpha_), linestyle='--', color='k',\n",
    "            label='alpha CV')\n",
    "plt.ylabel('Regression Coefficients')\n",
    "plt.xlabel('-log(alpha)')\n",
    "plt.title('Regression Coefficients Progression for Lasso Paths')\n",
    "plt.legend(predictors.columns, bbox_to_anchor=(1.04,0.5), loc=\"center left\")"
   ]
  },
  {
   "cell_type": "markdown",
   "metadata": {},
   "source": [
    "### Mean square error for each fold"
   ]
  },
  {
   "cell_type": "code",
   "execution_count": 147,
   "metadata": {},
   "outputs": [
    {
     "data": {
      "text/plain": [
       "Text(0.5, 1.0, 'Mean squared error on each fold')"
      ]
     },
     "execution_count": 147,
     "metadata": {},
     "output_type": "execute_result"
    },
    {
     "data": {
      "image/png": "[encoded data removed]",
      "text/plain": [
       "<Figure size 720x576 with 1 Axes>"
      ]
     },
     "metadata": {
      "needs_background": "light"
     },
     "output_type": "display_data"
    }
   ],
   "source": [
    "m_log_alphascv = -np.log10(model.cv_alphas_)\n",
    "\n",
    "fig, ax = plt.subplots(figsize=(10,8))\n",
    "plt.plot(m_log_alphascv, model.mse_path_, ':')\n",
    "plt.plot(m_log_alphascv, model.mse_path_.mean(axis=-1), 'k',\n",
    "         label='Average across the folds', linewidth=2)\n",
    "plt.axvline(-np.log10(model.alpha_), linestyle='--', color='k',\n",
    "            label='alpha CV')\n",
    "plt.legend(bbox_to_anchor=(1.04,0.5), loc=\"center left\")\n",
    "plt.xlabel('-log(alpha)')\n",
    "plt.ylabel('Mean squared error')\n",
    "plt.title('Mean squared error on each fold')"
   ]
  },
  {
   "cell_type": "markdown",
   "metadata": {},
   "source": [
    "### Statistics"
   ]
  },
  {
   "cell_type": "code",
   "execution_count": 144,
   "metadata": {},
   "outputs": [
    {
     "name": "stdout",
     "output_type": "stream",
     "text": [
      "training data MSE\n",
      "0.20369851726825897\n",
      "test data MSE\n",
      "0.3093956035103206\n"
     ]
    }
   ],
   "source": [
    "# MSE from training and test data\n",
    "from sklearn.metrics import mean_squared_error\n",
    "train_error = mean_squared_error(tar_train, model.predict(pred_train))\n",
    "test_error = mean_squared_error(tar_test, model.predict(pred_test))\n",
    "print ('training data MSE')\n",
    "print(train_error)\n",
    "print ('test data MSE')\n",
    "print(test_error)"
   ]
  },
  {
   "cell_type": "code",
   "execution_count": 145,
   "metadata": {},
   "outputs": [
    {
     "name": "stdout",
     "output_type": "stream",
     "text": [
      "training data R-square\n",
      "0.24899863752060858\n",
      "test data R-square\n",
      "-0.04885505250349498\n"
     ]
    }
   ],
   "source": [
    "# R-square from training and test data\n",
    "rsquared_train=model.score(pred_train,tar_train)\n",
    "rsquared_test=model.score(pred_test,tar_test)\n",
    "print ('training data R-square')\n",
    "print(rsquared_train)\n",
    "print ('test data R-square')\n",
    "print(rsquared_test)"
   ]
  },
  {
   "cell_type": "markdown",
   "metadata": {},
   "source": [
    "## Conclusion \n",
    "\n",
    "The model removed imports, exports, WTO membership, applied tariff, and all regional dummies, except North America and East Asia & Pacific. From seven variables selected for the final model, the most strongly associated with trade openness were being in East Asia and Income levels of the country, all of those variables were positively associated with Trade Openness. The least associated was whether the country is a member of the WTO or not, which also was positively associated with Trade Openness. Economical remoteness, being a landlocked country, and being located in North America were negatively associated with the Trade Openness.\n",
    "\n",
    "These 14 variables accounted for 24.9% of the variance in the tarde openness response variable."
   ]
  },
  {
   "cell_type": "code",
   "execution_count": null,
   "metadata": {},
   "outputs": [],
   "source": []
  }
 ],
 "metadata": {
  "kernelspec": {
   "display_name": "Python 3",
   "language": "python",
   "name": "python3"
  },
  "language_info": {
   "codemirror_mode": {
    "name": "ipython",
    "version": 3
   },
   "file_extension": ".py",
   "mimetype": "text/x-python",
   "name": "python",
   "nbconvert_exporter": "python",
   "pygments_lexer": "ipython3",
   "version": "3.7.3"
  }
 },
 "nbformat": 4,
 "nbformat_minor": 2
}
