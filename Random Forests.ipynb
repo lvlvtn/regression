{
 "cells": [
  {
   "cell_type": "markdown",
   "metadata": {},
   "source": [
    "# Random forests"
   ]
  },
  {
   "cell_type": "markdown",
   "metadata": {},
   "source": [
    "This is an assignment for week 2 of the 'Machine Learning for Data Analysis' course by Wesleyan University.\n",
    "\n",
    "The task at hand is to perform a random forest analysis to evaluate the importance of a series of explanatory variables in predicting a binary, categorical response variable. In this assignment, I will assess the importance of several macroeconomic indicators in predicting whether a country is a member of WTO or not.\n",
    "\n",
    "The dataset was prepared earlier and contains information about 217 countries for 2017: GDP, imports, exports, population, ease of doing business, whether a country is landlocked and WTO status. "
   ]
  },
  {
   "cell_type": "markdown",
   "metadata": {},
   "source": [
    "## Prepare the dataset "
   ]
  },
  {
   "cell_type": "code",
   "execution_count": 10,
   "metadata": {},
   "outputs": [],
   "source": [
    "import pandas as pd\n",
    "import numpy as np\n",
    "import os\n",
    "import matplotlib.pylab as plt\n",
    "from sklearn.model_selection import train_test_split\n",
    "from sklearn.tree import DecisionTreeClassifier\n",
    "from sklearn.metrics import classification_report\n",
    "import sklearn.metrics\n",
    " # Feature Importance\n",
    "from sklearn import datasets\n",
    "from sklearn.ensemble import ExtraTreesClassifier"
   ]
  },
  {
   "cell_type": "code",
   "execution_count": 26,
   "metadata": {},
   "outputs": [],
   "source": [
    "# Download prepared csv file\n",
    "data = pd.read_csv('openness_df.csv')"
   ]
  },
  {
   "cell_type": "code",
   "execution_count": 12,
   "metadata": {
    "scrolled": false
   },
   "outputs": [
    {
     "data": {
      "text/html": [
       "<div>\n",
       "<style scoped>\n",
       "    .dataframe tbody tr th:only-of-type {\n",
       "        vertical-align: middle;\n",
       "    }\n",
       "\n",
       "    .dataframe tbody tr th {\n",
       "        vertical-align: top;\n",
       "    }\n",
       "\n",
       "    .dataframe thead th {\n",
       "        text-align: right;\n",
       "    }\n",
       "</style>\n",
       "<table border=\"1\" class=\"dataframe\">\n",
       "  <thead>\n",
       "    <tr style=\"text-align: right;\">\n",
       "      <th></th>\n",
       "      <th>country</th>\n",
       "      <th>year</th>\n",
       "      <th>gdp</th>\n",
       "      <th>gdp_ppc</th>\n",
       "      <th>imports</th>\n",
       "      <th>exports</th>\n",
       "      <th>population</th>\n",
       "      <th>business_ease</th>\n",
       "      <th>code</th>\n",
       "      <th>region</th>\n",
       "      <th>tariff</th>\n",
       "      <th>wto_status</th>\n",
       "      <th>landlocked</th>\n",
       "      <th>remoteness</th>\n",
       "      <th>openness</th>\n",
       "    </tr>\n",
       "  </thead>\n",
       "  <tbody>\n",
       "    <tr>\n",
       "      <th>129</th>\n",
       "      <td>Mali</td>\n",
       "      <td>2017</td>\n",
       "      <td>1.533774e+10</td>\n",
       "      <td>828.511976</td>\n",
       "      <td>5.495670e+09</td>\n",
       "      <td>3.404945e+09</td>\n",
       "      <td>18512394.0</td>\n",
       "      <td>52.87624</td>\n",
       "      <td>MLI</td>\n",
       "      <td>Sub-Saharan Africa</td>\n",
       "      <td>9.807805</td>\n",
       "      <td>Member</td>\n",
       "      <td>1</td>\n",
       "      <td>2.062692e+10</td>\n",
       "      <td>0.580308</td>\n",
       "    </tr>\n",
       "    <tr>\n",
       "      <th>49</th>\n",
       "      <td>Czech Republic</td>\n",
       "      <td>2017</td>\n",
       "      <td>2.159135e+11</td>\n",
       "      <td>20379.896040</td>\n",
       "      <td>1.558956e+11</td>\n",
       "      <td>1.721394e+11</td>\n",
       "      <td>10594438.0</td>\n",
       "      <td>76.42162</td>\n",
       "      <td>CZE</td>\n",
       "      <td>Europe &amp; Central Asia</td>\n",
       "      <td>NaN</td>\n",
       "      <td>Member</td>\n",
       "      <td>1</td>\n",
       "      <td>5.822390e+11</td>\n",
       "      <td>1.519289</td>\n",
       "    </tr>\n",
       "    <tr>\n",
       "      <th>29</th>\n",
       "      <td>Bhutan</td>\n",
       "      <td>2017</td>\n",
       "      <td>2.450365e+09</td>\n",
       "      <td>3286.574704</td>\n",
       "      <td>1.291995e+09</td>\n",
       "      <td>7.371479e+08</td>\n",
       "      <td>745568.0</td>\n",
       "      <td>65.76640</td>\n",
       "      <td>BTN</td>\n",
       "      <td>South Asia</td>\n",
       "      <td>23.735849</td>\n",
       "      <td>Observer</td>\n",
       "      <td>1</td>\n",
       "      <td>1.602754e+09</td>\n",
       "      <td>0.828098</td>\n",
       "    </tr>\n",
       "    <tr>\n",
       "      <th>107</th>\n",
       "      <td>Lao PDR</td>\n",
       "      <td>2017</td>\n",
       "      <td>1.685309e+10</td>\n",
       "      <td>2423.846203</td>\n",
       "      <td>NaN</td>\n",
       "      <td>NaN</td>\n",
       "      <td>6953035.0</td>\n",
       "      <td>49.98578</td>\n",
       "      <td>LAO</td>\n",
       "      <td>East Asia &amp; Pacific</td>\n",
       "      <td>7.674604</td>\n",
       "      <td>Member</td>\n",
       "      <td>1</td>\n",
       "      <td>1.087749e+10</td>\n",
       "      <td>NaN</td>\n",
       "    </tr>\n",
       "    <tr>\n",
       "      <th>183</th>\n",
       "      <td>Sweden</td>\n",
       "      <td>2017</td>\n",
       "      <td>5.405452e+11</td>\n",
       "      <td>53744.429032</td>\n",
       "      <td>2.228414e+11</td>\n",
       "      <td>2.401832e+11</td>\n",
       "      <td>10057698.0</td>\n",
       "      <td>82.17491</td>\n",
       "      <td>SWE</td>\n",
       "      <td>Europe &amp; Central Asia</td>\n",
       "      <td>NaN</td>\n",
       "      <td>Member</td>\n",
       "      <td>0</td>\n",
       "      <td>1.031199e+12</td>\n",
       "      <td>0.856588</td>\n",
       "    </tr>\n",
       "  </tbody>\n",
       "</table>\n",
       "</div>"
      ],
      "text/plain": [
       "            country  year           gdp       gdp_ppc       imports  \\\n",
       "129            Mali  2017  1.533774e+10    828.511976  5.495670e+09   \n",
       "49   Czech Republic  2017  2.159135e+11  20379.896040  1.558956e+11   \n",
       "29           Bhutan  2017  2.450365e+09   3286.574704  1.291995e+09   \n",
       "107         Lao PDR  2017  1.685309e+10   2423.846203           NaN   \n",
       "183          Sweden  2017  5.405452e+11  53744.429032  2.228414e+11   \n",
       "\n",
       "          exports  population  business_ease code                 region  \\\n",
       "129  3.404945e+09  18512394.0       52.87624  MLI    Sub-Saharan Africa    \n",
       "49   1.721394e+11  10594438.0       76.42162  CZE  Europe & Central Asia   \n",
       "29   7.371479e+08    745568.0       65.76640  BTN             South Asia   \n",
       "107           NaN   6953035.0       49.98578  LAO    East Asia & Pacific   \n",
       "183  2.401832e+11  10057698.0       82.17491  SWE  Europe & Central Asia   \n",
       "\n",
       "        tariff wto_status  landlocked    remoteness  openness  \n",
       "129   9.807805     Member           1  2.062692e+10  0.580308  \n",
       "49         NaN     Member           1  5.822390e+11  1.519289  \n",
       "29   23.735849   Observer           1  1.602754e+09  0.828098  \n",
       "107   7.674604     Member           1  1.087749e+10       NaN  \n",
       "183        NaN     Member           0  1.031199e+12  0.856588  "
      ]
     },
     "execution_count": 12,
     "metadata": {},
     "output_type": "execute_result"
    }
   ],
   "source": [
    "data.sample(5)"
   ]
  },
  {
   "cell_type": "code",
   "execution_count": 27,
   "metadata": {},
   "outputs": [],
   "source": [
    "# Clean the dataset\n",
    "data = data[['wto_status','gdp_ppc','population','tariff','remoteness','openness','business_ease','landlocked']]\n",
    "data = data[data['remoteness'] > 0]\n",
    "data.dropna(inplace=True)"
   ]
  },
  {
   "cell_type": "code",
   "execution_count": 28,
   "metadata": {},
   "outputs": [],
   "source": [
    "# Bin WTO status into two categories\n",
    "data[\"wto_status\"] = data[\"wto_status\"].replace({'Member': 1, 'Observer': 0, 'No perticipation': 0})"
   ]
  },
  {
   "cell_type": "markdown",
   "metadata": {},
   "source": [
    "## Growing Rundom Forest"
   ]
  },
  {
   "cell_type": "code",
   "execution_count": 29,
   "metadata": {},
   "outputs": [
    {
     "name": "stdout",
     "output_type": "stream",
     "text": [
      "(76, 7)\n",
      "(52, 7)\n",
      "(76,)\n",
      "(52,)\n"
     ]
    }
   ],
   "source": [
    "predictors = data[['gdp_ppc','population','tariff','remoteness','openness','business_ease','landlocked']]\n",
    "\n",
    "targets = data.wto_status\n",
    "\n",
    "pred_train, pred_test, tar_train, tar_test  = train_test_split(predictors, targets, test_size=.4)\n",
    "\n",
    "print(pred_train.shape)\n",
    "print(pred_test.shape)\n",
    "print(tar_train.shape)\n",
    "print(tar_test.shape)"
   ]
  },
  {
   "cell_type": "code",
   "execution_count": 30,
   "metadata": {},
   "outputs": [
    {
     "name": "stdout",
     "output_type": "stream",
     "text": [
      "[[ 0  5]\n",
      " [ 1 46]]\n",
      "0.8846153846153846\n"
     ]
    }
   ],
   "source": [
    "#Build model on training data\n",
    "from sklearn.ensemble import RandomForestClassifier\n",
    "\n",
    "classifier=RandomForestClassifier(n_estimators=25)\n",
    "classifier=classifier.fit(pred_train,tar_train)\n",
    "\n",
    "predictions=classifier.predict(pred_test)\n",
    "\n",
    "print(sklearn.metrics.confusion_matrix(tar_test,predictions))\n",
    "print(sklearn.metrics.accuracy_score(tar_test, predictions))"
   ]
  },
  {
   "cell_type": "code",
   "execution_count": 34,
   "metadata": {},
   "outputs": [
    {
     "name": "stdout",
     "output_type": "stream",
     "text": [
      "gdp_ppc 0.10258574979684003\n",
      "population 0.16317734223536845\n",
      "tariff 0.29358956634008465\n",
      "remoteness 0.1618216148249735\n",
      "openness 0.14175495973131072\n",
      "business_ease 0.09774201684091414\n",
      "landlocked 0.03932875023050845\n"
     ]
    },
    {
     "name": "stderr",
     "output_type": "stream",
     "text": [
      "/Users/lucy/anaconda3/lib/python3.7/site-packages/sklearn/ensemble/forest.py:246: FutureWarning: The default value of n_estimators will change from 10 in version 0.20 to 100 in 0.22.\n",
      "  \"10 in version 0.20 to 100 in 0.22.\", FutureWarning)\n"
     ]
    }
   ],
   "source": [
    "# fit an Extra Trees model to the data\n",
    "model = ExtraTreesClassifier()\n",
    "model.fit(pred_train,tar_train)\n",
    "\n",
    "# display the relative importance of each attribute\n",
    "for feature, column in zip(model.feature_importances_,predictors.columns):\n",
    "    print(column, feature)"
   ]
  },
  {
   "cell_type": "code",
   "execution_count": 32,
   "metadata": {},
   "outputs": [
    {
     "data": {
      "text/plain": [
       "[<matplotlib.lines.Line2D at 0x11ce5bb00>]"
      ]
     },
     "execution_count": 32,
     "metadata": {},
     "output_type": "execute_result"
    },
    {
     "data": {
      "image/png": "[encoded data removed]",
      "text/plain": [
       "<Figure size 432x288 with 1 Axes>"
      ]
     },
     "metadata": {
      "needs_background": "light"
     },
     "output_type": "display_data"
    }
   ],
   "source": [
    "trees=range(25)\n",
    "accuracy=np.zeros(25)\n",
    "\n",
    "for idx in range(len(trees)):\n",
    "   classifier=RandomForestClassifier(n_estimators=idx + 1)\n",
    "   classifier=classifier.fit(pred_train,tar_train)\n",
    "   predictions=classifier.predict(pred_test)\n",
    "   accuracy[idx]=sklearn.metrics.accuracy_score(tar_test, predictions)\n",
    "   \n",
    "plt.cla()\n",
    "plt.plot(trees, accuracy)"
   ]
  },
  {
   "cell_type": "code",
   "execution_count": 36,
   "metadata": {},
   "outputs": [
    {
     "name": "stdout",
     "output_type": "stream",
     "text": [
      "[[ 0  5]\n",
      " [ 0 47]]\n",
      "0.9038461538461539\n"
     ]
    }
   ],
   "source": [
    "#Build model on training data\n",
    "from sklearn.ensemble import RandomForestClassifier\n",
    "\n",
    "classifier=RandomForestClassifier(n_estimators=11)\n",
    "classifier=classifier.fit(pred_train,tar_train)\n",
    "\n",
    "predictions=classifier.predict(pred_test)\n",
    "\n",
    "print(sklearn.metrics.confusion_matrix(tar_test,predictions))\n",
    "print(sklearn.metrics.accuracy_score(tar_test, predictions))"
   ]
  },
  {
   "cell_type": "code",
   "execution_count": 37,
   "metadata": {},
   "outputs": [
    {
     "name": "stdout",
     "output_type": "stream",
     "text": [
      "gdp_ppc 0.18799348857764814\n",
      "population 0.12378228463131058\n",
      "tariff 0.28717379719510744\n",
      "remoteness 0.14453115596930524\n",
      "openness 0.11568196058836386\n",
      "business_ease 0.10586414968215496\n",
      "landlocked 0.03497316335610979\n"
     ]
    },
    {
     "name": "stderr",
     "output_type": "stream",
     "text": [
      "/Users/lucy/anaconda3/lib/python3.7/site-packages/sklearn/ensemble/forest.py:246: FutureWarning: The default value of n_estimators will change from 10 in version 0.20 to 100 in 0.22.\n",
      "  \"10 in version 0.20 to 100 in 0.22.\", FutureWarning)\n"
     ]
    }
   ],
   "source": [
    "# fit an Extra Trees model to the data\n",
    "model = ExtraTreesClassifier()\n",
    "model.fit(pred_train,tar_train)\n",
    "\n",
    "# display the relative importance of each attribute\n",
    "for feature, column in zip(model.feature_importances_,predictors.columns):\n",
    "    print(column, feature)"
   ]
  },
  {
   "cell_type": "code",
   "execution_count": 39,
   "metadata": {},
   "outputs": [
    {
     "data": {
      "text/plain": [
       "([0, 1, 2, 3, 4, 5, 6], <a list of 7 Text xticklabel objects>)"
      ]
     },
     "execution_count": 39,
     "metadata": {},
     "output_type": "execute_result"
    },
    {
     "data": {
      "image/png": "[encoded data removed]",
      "text/plain": [
       "<Figure size 432x288 with 1 Axes>"
      ]
     },
     "metadata": {
      "needs_background": "light"
     },
     "output_type": "display_data"
    }
   ],
   "source": [
    "plt.bar(predictors.columns,model.feature_importances_)\n",
    "plt.xticks(rotation='vertical')"
   ]
  },
  {
   "cell_type": "markdown",
   "metadata": {},
   "source": [
    "## Conclusion\n",
    "\n",
    "The model predicted WTO membership of a country accurately in 88% of the cases with 0 true positive values, 46 true negatives, five false positives, and one false negative.  However, the visualization shows that we would have a better score with 11 trees instead of 25. With 11 trees our model accuracy is 90, this model produced no false negatives and 47 true negatives.\n",
    "\n",
    "According to the importance scores, the most important variable in predicting WTO membership is the average applied tariff with a score of 0.29. It is followed by country income level measured in GPD per capita with a score of 0.19 and economical remoteness of the country with a score of 0.14. The least important indicator in the model is whether a country is landlocked or not."
   ]
  },
  {
   "cell_type": "code",
   "execution_count": null,
   "metadata": {},
   "outputs": [],
   "source": []
  }
 ],
 "metadata": {
  "kernelspec": {
   "display_name": "Python 3",
   "language": "python",
   "name": "python3"
  },
  "language_info": {
   "codemirror_mode": {
    "name": "ipython",
    "version": 3
   },
   "file_extension": ".py",
   "mimetype": "text/x-python",
   "name": "python",
   "nbconvert_exporter": "python",
   "pygments_lexer": "ipython3",
   "version": "3.7.3"
  }
 },
 "nbformat": 4,
 "nbformat_minor": 2
}
