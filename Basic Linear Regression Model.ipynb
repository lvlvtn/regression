{
 "cells": [
  {
   "cell_type": "markdown",
   "metadata": {},
   "source": [
    "# Trade Openness Regression Analysis"
   ]
  },
  {
   "cell_type": "markdown",
   "metadata": {},
   "source": [
    "## Download the dataset "
   ]
  },
  {
   "cell_type": "code",
   "execution_count": null,
   "metadata": {},
   "outputs": [],
   "source": [
    "# Import libraries with functions for remote acccess to World Bank Indicators\n",
    "from pandas_datareader import wb\n",
    "\n",
    "# Import libraries for working with data\n",
    "import pandas as pd\n",
    "import numpy as np"
   ]
  },
  {
   "cell_type": "code",
   "execution_count": 5,
   "metadata": {},
   "outputs": [
    {
     "data": {
      "text/html": [
       "<div>\n",
       "<style scoped>\n",
       "    .dataframe tbody tr th:only-of-type {\n",
       "        vertical-align: middle;\n",
       "    }\n",
       "\n",
       "    .dataframe tbody tr th {\n",
       "        vertical-align: top;\n",
       "    }\n",
       "\n",
       "    .dataframe thead th {\n",
       "        text-align: right;\n",
       "    }\n",
       "</style>\n",
       "<table border=\"1\" class=\"dataframe\">\n",
       "  <thead>\n",
       "    <tr style=\"text-align: right;\">\n",
       "      <th></th>\n",
       "      <th>adminregion</th>\n",
       "      <th>capitalCity</th>\n",
       "      <th>iso3c</th>\n",
       "      <th>incomeLevel</th>\n",
       "      <th>iso2c</th>\n",
       "      <th>latitude</th>\n",
       "      <th>lendingType</th>\n",
       "      <th>longitude</th>\n",
       "      <th>name</th>\n",
       "      <th>region</th>\n",
       "    </tr>\n",
       "  </thead>\n",
       "  <tbody>\n",
       "    <tr>\n",
       "      <th>0</th>\n",
       "      <td></td>\n",
       "      <td>Oranjestad</td>\n",
       "      <td>ABW</td>\n",
       "      <td>High income</td>\n",
       "      <td>AW</td>\n",
       "      <td>12.51670</td>\n",
       "      <td>Not classified</td>\n",
       "      <td>-70.0167</td>\n",
       "      <td>Aruba</td>\n",
       "      <td>Latin America &amp; Caribbean</td>\n",
       "    </tr>\n",
       "    <tr>\n",
       "      <th>1</th>\n",
       "      <td>South Asia</td>\n",
       "      <td>Kabul</td>\n",
       "      <td>AFG</td>\n",
       "      <td>Low income</td>\n",
       "      <td>AF</td>\n",
       "      <td>34.52280</td>\n",
       "      <td>IDA</td>\n",
       "      <td>69.1761</td>\n",
       "      <td>Afghanistan</td>\n",
       "      <td>South Asia</td>\n",
       "    </tr>\n",
       "    <tr>\n",
       "      <th>2</th>\n",
       "      <td></td>\n",
       "      <td></td>\n",
       "      <td>AFR</td>\n",
       "      <td>Aggregates</td>\n",
       "      <td>A9</td>\n",
       "      <td>NaN</td>\n",
       "      <td>Aggregates</td>\n",
       "      <td>NaN</td>\n",
       "      <td>Africa</td>\n",
       "      <td>Aggregates</td>\n",
       "    </tr>\n",
       "    <tr>\n",
       "      <th>3</th>\n",
       "      <td>Sub-Saharan Africa (excluding high income)</td>\n",
       "      <td>Luanda</td>\n",
       "      <td>AGO</td>\n",
       "      <td>Lower middle income</td>\n",
       "      <td>AO</td>\n",
       "      <td>-8.81155</td>\n",
       "      <td>IBRD</td>\n",
       "      <td>13.2420</td>\n",
       "      <td>Angola</td>\n",
       "      <td>Sub-Saharan Africa</td>\n",
       "    </tr>\n",
       "    <tr>\n",
       "      <th>4</th>\n",
       "      <td>Europe &amp; Central Asia (excluding high income)</td>\n",
       "      <td>Tirane</td>\n",
       "      <td>ALB</td>\n",
       "      <td>Upper middle income</td>\n",
       "      <td>AL</td>\n",
       "      <td>41.33170</td>\n",
       "      <td>IBRD</td>\n",
       "      <td>19.8172</td>\n",
       "      <td>Albania</td>\n",
       "      <td>Europe &amp; Central Asia</td>\n",
       "    </tr>\n",
       "  </tbody>\n",
       "</table>\n",
       "</div>"
      ],
      "text/plain": [
       "                                     adminregion capitalCity iso3c  \\\n",
       "0                                                 Oranjestad   ABW   \n",
       "1                                     South Asia       Kabul   AFG   \n",
       "2                                                              AFR   \n",
       "3     Sub-Saharan Africa (excluding high income)      Luanda   AGO   \n",
       "4  Europe & Central Asia (excluding high income)      Tirane   ALB   \n",
       "\n",
       "           incomeLevel iso2c  latitude     lendingType  longitude  \\\n",
       "0          High income    AW  12.51670  Not classified   -70.0167   \n",
       "1           Low income    AF  34.52280             IDA    69.1761   \n",
       "2           Aggregates    A9       NaN      Aggregates        NaN   \n",
       "3  Lower middle income    AO  -8.81155            IBRD    13.2420   \n",
       "4  Upper middle income    AL  41.33170            IBRD    19.8172   \n",
       "\n",
       "          name                      region  \n",
       "0        Aruba  Latin America & Caribbean   \n",
       "1  Afghanistan                  South Asia  \n",
       "2       Africa                  Aggregates  \n",
       "3       Angola         Sub-Saharan Africa   \n",
       "4      Albania       Europe & Central Asia  "
      ]
     },
     "execution_count": 5,
     "metadata": {},
     "output_type": "execute_result"
    }
   ],
   "source": [
    "# Get list of countries\n",
    "countries = wb.get_countries()\n",
    "countries.head()"
   ]
  },
  {
   "cell_type": "code",
   "execution_count": 7,
   "metadata": {},
   "outputs": [],
   "source": [
    "# We can use columns 'incomeLevel' or 'region' to isolate Aggregates\n",
    "# Get indexes for countries where 'incomeLevel' is 'Aggregates'\n",
    "agg_index = countries[countries['incomeLevel'] == 'Aggregates'].index\n",
    "\n",
    "# Delete rows with indexes 'agg_index' from DataFrame\n",
    "countries.drop(agg_index, inplace=True)\n",
    "\n",
    "# unique() method gives unique values for column 'iso3c'\n",
    "# tolist() makes a list from np.array\n",
    "codes = countries['iso3c'].unique().tolist()"
   ]
  },
  {
   "cell_type": "code",
   "execution_count": 12,
   "metadata": {},
   "outputs": [
    {
     "name": "stderr",
     "output_type": "stream",
     "text": [
      "/Users/lucy/anaconda3/lib/python3.7/site-packages/pandas_datareader/wb.py:593: UserWarning: Non-standard ISO country codes: CHI, XKX\n",
      "  \"Non-standard ISO \" \"country codes: %s\" % tmp, UserWarning\n"
     ]
    },
    {
     "data": {
      "text/html": [
       "<div>\n",
       "<style scoped>\n",
       "    .dataframe tbody tr th:only-of-type {\n",
       "        vertical-align: middle;\n",
       "    }\n",
       "\n",
       "    .dataframe tbody tr th {\n",
       "        vertical-align: top;\n",
       "    }\n",
       "\n",
       "    .dataframe thead th {\n",
       "        text-align: right;\n",
       "    }\n",
       "</style>\n",
       "<table border=\"1\" class=\"dataframe\">\n",
       "  <thead>\n",
       "    <tr style=\"text-align: right;\">\n",
       "      <th></th>\n",
       "      <th></th>\n",
       "      <th>NY.GDP.MKTP.CD</th>\n",
       "      <th>NY.GDP.PCAP.CD</th>\n",
       "      <th>NE.IMP.GNFS.CD</th>\n",
       "      <th>NE.EXP.GNFS.CD</th>\n",
       "    </tr>\n",
       "    <tr>\n",
       "      <th>country</th>\n",
       "      <th>year</th>\n",
       "      <th></th>\n",
       "      <th></th>\n",
       "      <th></th>\n",
       "      <th></th>\n",
       "    </tr>\n",
       "  </thead>\n",
       "  <tbody>\n",
       "    <tr>\n",
       "      <th>Aruba</th>\n",
       "      <th>2017</th>\n",
       "      <td>2.700559e+09</td>\n",
       "      <td>25630.266492</td>\n",
       "      <td>2.031844e+09</td>\n",
       "      <td>1.912291e+09</td>\n",
       "    </tr>\n",
       "    <tr>\n",
       "      <th>Afghanistan</th>\n",
       "      <th>2017</th>\n",
       "      <td>2.019176e+10</td>\n",
       "      <td>556.302139</td>\n",
       "      <td>9.153344e+09</td>\n",
       "      <td>1.192286e+09</td>\n",
       "    </tr>\n",
       "    <tr>\n",
       "      <th>Angola</th>\n",
       "      <th>2017</th>\n",
       "      <td>1.221238e+11</td>\n",
       "      <td>4095.812942</td>\n",
       "      <td>2.839711e+10</td>\n",
       "      <td>3.542092e+10</td>\n",
       "    </tr>\n",
       "    <tr>\n",
       "      <th>Albania</th>\n",
       "      <th>2017</th>\n",
       "      <td>1.302506e+10</td>\n",
       "      <td>4532.890162</td>\n",
       "      <td>6.070288e+09</td>\n",
       "      <td>4.110274e+09</td>\n",
       "    </tr>\n",
       "    <tr>\n",
       "      <th>Andorra</th>\n",
       "      <th>2017</th>\n",
       "      <td>3.013387e+09</td>\n",
       "      <td>39134.393371</td>\n",
       "      <td>NaN</td>\n",
       "      <td>NaN</td>\n",
       "    </tr>\n",
       "  </tbody>\n",
       "</table>\n",
       "</div>"
      ],
      "text/plain": [
       "                  NY.GDP.MKTP.CD  NY.GDP.PCAP.CD  NE.IMP.GNFS.CD  \\\n",
       "country     year                                                   \n",
       "Aruba       2017    2.700559e+09    25630.266492    2.031844e+09   \n",
       "Afghanistan 2017    2.019176e+10      556.302139    9.153344e+09   \n",
       "Angola      2017    1.221238e+11     4095.812942    2.839711e+10   \n",
       "Albania     2017    1.302506e+10     4532.890162    6.070288e+09   \n",
       "Andorra     2017    3.013387e+09    39134.393371             NaN   \n",
       "\n",
       "                  NE.EXP.GNFS.CD  \n",
       "country     year                  \n",
       "Aruba       2017    1.912291e+09  \n",
       "Afghanistan 2017    1.192286e+09  \n",
       "Angola      2017    3.542092e+10  \n",
       "Albania     2017    4.110274e+09  \n",
       "Andorra     2017             NaN  "
      ]
     },
     "execution_count": 12,
     "metadata": {},
     "output_type": "execute_result"
    }
   ],
   "source": [
    "#to find GDP indicators\n",
    "#wb.search(string='GDP per capita', field='name') \n",
    "\n",
    "#to find import and export indicators\n",
    "#wb.search(string='Economy & Growth ; Trade', field='topics') \n",
    "\n",
    "#download the data\n",
    "data = wb.download(country=codes, indicator=['NY.GDP.MKTP.CD','NY.GDP.PCAP.CD','NE.IMP.GNFS.CD','NE.EXP.GNFS.CD'], start=2017, end=2017)\n",
    "\n",
    "#examine the data\n",
    "data.head()"
   ]
  },
  {
   "cell_type": "code",
   "execution_count": 13,
   "metadata": {
    "scrolled": true
   },
   "outputs": [
    {
     "data": {
      "text/html": [
       "<div>\n",
       "<style scoped>\n",
       "    .dataframe tbody tr th:only-of-type {\n",
       "        vertical-align: middle;\n",
       "    }\n",
       "\n",
       "    .dataframe tbody tr th {\n",
       "        vertical-align: top;\n",
       "    }\n",
       "\n",
       "    .dataframe thead th {\n",
       "        text-align: right;\n",
       "    }\n",
       "</style>\n",
       "<table border=\"1\" class=\"dataframe\">\n",
       "  <thead>\n",
       "    <tr style=\"text-align: right;\">\n",
       "      <th></th>\n",
       "      <th>country</th>\n",
       "      <th>year</th>\n",
       "      <th>gdp</th>\n",
       "      <th>gdp_ppc</th>\n",
       "      <th>imports</th>\n",
       "      <th>exports</th>\n",
       "    </tr>\n",
       "  </thead>\n",
       "  <tbody>\n",
       "    <tr>\n",
       "      <th>0</th>\n",
       "      <td>Aruba</td>\n",
       "      <td>2017</td>\n",
       "      <td>2.700559e+09</td>\n",
       "      <td>25630.266492</td>\n",
       "      <td>2.031844e+09</td>\n",
       "      <td>1.912291e+09</td>\n",
       "    </tr>\n",
       "    <tr>\n",
       "      <th>1</th>\n",
       "      <td>Afghanistan</td>\n",
       "      <td>2017</td>\n",
       "      <td>2.019176e+10</td>\n",
       "      <td>556.302139</td>\n",
       "      <td>9.153344e+09</td>\n",
       "      <td>1.192286e+09</td>\n",
       "    </tr>\n",
       "    <tr>\n",
       "      <th>2</th>\n",
       "      <td>Angola</td>\n",
       "      <td>2017</td>\n",
       "      <td>1.221238e+11</td>\n",
       "      <td>4095.812942</td>\n",
       "      <td>2.839711e+10</td>\n",
       "      <td>3.542092e+10</td>\n",
       "    </tr>\n",
       "    <tr>\n",
       "      <th>3</th>\n",
       "      <td>Albania</td>\n",
       "      <td>2017</td>\n",
       "      <td>1.302506e+10</td>\n",
       "      <td>4532.890162</td>\n",
       "      <td>6.070288e+09</td>\n",
       "      <td>4.110274e+09</td>\n",
       "    </tr>\n",
       "    <tr>\n",
       "      <th>4</th>\n",
       "      <td>Andorra</td>\n",
       "      <td>2017</td>\n",
       "      <td>3.013387e+09</td>\n",
       "      <td>39134.393371</td>\n",
       "      <td>NaN</td>\n",
       "      <td>NaN</td>\n",
       "    </tr>\n",
       "  </tbody>\n",
       "</table>\n",
       "</div>"
      ],
      "text/plain": [
       "       country  year           gdp       gdp_ppc       imports       exports\n",
       "0        Aruba  2017  2.700559e+09  25630.266492  2.031844e+09  1.912291e+09\n",
       "1  Afghanistan  2017  2.019176e+10    556.302139  9.153344e+09  1.192286e+09\n",
       "2       Angola  2017  1.221238e+11   4095.812942  2.839711e+10  3.542092e+10\n",
       "3      Albania  2017  1.302506e+10   4532.890162  6.070288e+09  4.110274e+09\n",
       "4      Andorra  2017  3.013387e+09  39134.393371           NaN           NaN"
      ]
     },
     "execution_count": 13,
     "metadata": {},
     "output_type": "execute_result"
    }
   ],
   "source": [
    "#rename columns\n",
    "data.columns = ['gdp','gdp_ppc','imports','exports']\n",
    "#create columns country and year from MultiIndex\n",
    "data.reset_index(inplace=True) \n",
    "data.head()"
   ]
  },
  {
   "cell_type": "code",
   "execution_count": 14,
   "metadata": {},
   "outputs": [
    {
     "data": {
      "text/html": [
       "<div>\n",
       "<style scoped>\n",
       "    .dataframe tbody tr th:only-of-type {\n",
       "        vertical-align: middle;\n",
       "    }\n",
       "\n",
       "    .dataframe tbody tr th {\n",
       "        vertical-align: top;\n",
       "    }\n",
       "\n",
       "    .dataframe thead th {\n",
       "        text-align: right;\n",
       "    }\n",
       "</style>\n",
       "<table border=\"1\" class=\"dataframe\">\n",
       "  <thead>\n",
       "    <tr style=\"text-align: right;\">\n",
       "      <th></th>\n",
       "      <th>country</th>\n",
       "      <th>year</th>\n",
       "      <th>gdp</th>\n",
       "      <th>gdp_ppc</th>\n",
       "      <th>imports</th>\n",
       "      <th>exports</th>\n",
       "      <th>openness</th>\n",
       "    </tr>\n",
       "  </thead>\n",
       "  <tbody>\n",
       "    <tr>\n",
       "      <th>0</th>\n",
       "      <td>Aruba</td>\n",
       "      <td>2017</td>\n",
       "      <td>2.700559e+09</td>\n",
       "      <td>25630.266492</td>\n",
       "      <td>2.031844e+09</td>\n",
       "      <td>1.912291e+09</td>\n",
       "      <td>1.460488</td>\n",
       "    </tr>\n",
       "    <tr>\n",
       "      <th>1</th>\n",
       "      <td>Afghanistan</td>\n",
       "      <td>2017</td>\n",
       "      <td>2.019176e+10</td>\n",
       "      <td>556.302139</td>\n",
       "      <td>9.153344e+09</td>\n",
       "      <td>1.192286e+09</td>\n",
       "      <td>0.512369</td>\n",
       "    </tr>\n",
       "    <tr>\n",
       "      <th>2</th>\n",
       "      <td>Angola</td>\n",
       "      <td>2017</td>\n",
       "      <td>1.221238e+11</td>\n",
       "      <td>4095.812942</td>\n",
       "      <td>2.839711e+10</td>\n",
       "      <td>3.542092e+10</td>\n",
       "      <td>0.522568</td>\n",
       "    </tr>\n",
       "    <tr>\n",
       "      <th>3</th>\n",
       "      <td>Albania</td>\n",
       "      <td>2017</td>\n",
       "      <td>1.302506e+10</td>\n",
       "      <td>4532.890162</td>\n",
       "      <td>6.070288e+09</td>\n",
       "      <td>4.110274e+09</td>\n",
       "      <td>0.781613</td>\n",
       "    </tr>\n",
       "    <tr>\n",
       "      <th>4</th>\n",
       "      <td>Andorra</td>\n",
       "      <td>2017</td>\n",
       "      <td>3.013387e+09</td>\n",
       "      <td>39134.393371</td>\n",
       "      <td>NaN</td>\n",
       "      <td>NaN</td>\n",
       "      <td>NaN</td>\n",
       "    </tr>\n",
       "  </tbody>\n",
       "</table>\n",
       "</div>"
      ],
      "text/plain": [
       "       country  year           gdp       gdp_ppc       imports       exports  \\\n",
       "0        Aruba  2017  2.700559e+09  25630.266492  2.031844e+09  1.912291e+09   \n",
       "1  Afghanistan  2017  2.019176e+10    556.302139  9.153344e+09  1.192286e+09   \n",
       "2       Angola  2017  1.221238e+11   4095.812942  2.839711e+10  3.542092e+10   \n",
       "3      Albania  2017  1.302506e+10   4532.890162  6.070288e+09  4.110274e+09   \n",
       "4      Andorra  2017  3.013387e+09  39134.393371           NaN           NaN   \n",
       "\n",
       "   openness  \n",
       "0  1.460488  \n",
       "1  0.512369  \n",
       "2  0.522568  \n",
       "3  0.781613  \n",
       "4       NaN  "
      ]
     },
     "execution_count": 14,
     "metadata": {},
     "output_type": "execute_result"
    }
   ],
   "source": [
    "data['openness'] = (data['imports'] + data['exports']) / data['gdp']\n",
    "data.head()"
   ]
  },
  {
   "cell_type": "code",
   "execution_count": 16,
   "metadata": {},
   "outputs": [
    {
     "data": {
      "text/html": [
       "<div>\n",
       "<style scoped>\n",
       "    .dataframe tbody tr th:only-of-type {\n",
       "        vertical-align: middle;\n",
       "    }\n",
       "\n",
       "    .dataframe tbody tr th {\n",
       "        vertical-align: top;\n",
       "    }\n",
       "\n",
       "    .dataframe thead th {\n",
       "        text-align: right;\n",
       "    }\n",
       "</style>\n",
       "<table border=\"1\" class=\"dataframe\">\n",
       "  <thead>\n",
       "    <tr style=\"text-align: right;\">\n",
       "      <th></th>\n",
       "      <th>gdp_ppc</th>\n",
       "      <th>openness</th>\n",
       "    </tr>\n",
       "  </thead>\n",
       "  <tbody>\n",
       "    <tr>\n",
       "      <th>gdp_ppc</th>\n",
       "      <td>1.000000</td>\n",
       "      <td>0.380745</td>\n",
       "    </tr>\n",
       "    <tr>\n",
       "      <th>openness</th>\n",
       "      <td>0.380745</td>\n",
       "      <td>1.000000</td>\n",
       "    </tr>\n",
       "  </tbody>\n",
       "</table>\n",
       "</div>"
      ],
      "text/plain": [
       "           gdp_ppc  openness\n",
       "gdp_ppc   1.000000  0.380745\n",
       "openness  0.380745  1.000000"
      ]
     },
     "execution_count": 16,
     "metadata": {},
     "output_type": "execute_result"
    }
   ],
   "source": [
    "#isolate columns for analysis\n",
    "data = data[['country','gdp_ppc','openness']]\n",
    "\n",
    "#display correlation coefficient\n",
    "data.corr()"
   ]
  },
  {
   "cell_type": "markdown",
   "metadata": {},
   "source": [
    "## Scatterplot"
   ]
  },
  {
   "cell_type": "code",
   "execution_count": null,
   "metadata": {},
   "outputs": [],
   "source": [
    "# Import libraries for data visualization\n",
    "import seaborn as sns\n",
    "import matplotlib.pyplot as plt"
   ]
  },
  {
   "cell_type": "code",
   "execution_count": 76,
   "metadata": {
    "scrolled": false
   },
   "outputs": [
    {
     "data": {
      "text/plain": [
       "Text(0.5, 1.01, \"The Association Between Trade Openness and Country's Level of Income\")"
      ]
     },
     "execution_count": 76,
     "metadata": {},
     "output_type": "execute_result"
    },
    {
     "data": {
      "image/png": "[encoded data removed]",
      "text/plain": [
       "<Figure size 720x576 with 1 Axes>"
      ]
     },
     "metadata": {
      "needs_background": "light"
     },
     "output_type": "display_data"
    }
   ],
   "source": [
    "plt.figure(figsize=(10,8))\n",
    "sns.regplot(x=\"gdp_ppc\", y=\"openness\", scatter=True, data=data)\n",
    "plt.xlabel('GDP per capita')\n",
    "plt.ylabel('Trade Openness')\n",
    "plt.title (\"The Association Between Trade Openness and Country's Level of Income\", fontsize=14, y=1.01)"
   ]
  },
  {
   "cell_type": "markdown",
   "metadata": {},
   "source": [
    "## Regression Model"
   ]
  },
  {
   "cell_type": "markdown",
   "metadata": {},
   "source": [
    "OLS regression model for the association between Trade Openness and Country's Level of Income"
   ]
  },
  {
   "cell_type": "code",
   "execution_count": 77,
   "metadata": {},
   "outputs": [
    {
     "data": {
      "text/html": [
       "<table class=\"simpletable\">\n",
       "<caption>OLS Regression Results</caption>\n",
       "<tr>\n",
       "  <th>Dep. Variable:</th>        <td>openness</td>     <th>  R-squared:         </th> <td>   0.145</td>\n",
       "</tr>\n",
       "<tr>\n",
       "  <th>Model:</th>                   <td>OLS</td>       <th>  Adj. R-squared:    </th> <td>   0.140</td>\n",
       "</tr>\n",
       "<tr>\n",
       "  <th>Method:</th>             <td>Least Squares</td>  <th>  F-statistic:       </th> <td>   30.35</td>\n",
       "</tr>\n",
       "<tr>\n",
       "  <th>Date:</th>             <td>Wed, 27 May 2020</td> <th>  Prob (F-statistic):</th> <td>1.24e-07</td>\n",
       "</tr>\n",
       "<tr>\n",
       "  <th>Time:</th>                 <td>23:24:54</td>     <th>  Log-Likelihood:    </th> <td> -141.20</td>\n",
       "</tr>\n",
       "<tr>\n",
       "  <th>No. Observations:</th>      <td>   181</td>      <th>  AIC:               </th> <td>   286.4</td>\n",
       "</tr>\n",
       "<tr>\n",
       "  <th>Df Residuals:</th>          <td>   179</td>      <th>  BIC:               </th> <td>   292.8</td>\n",
       "</tr>\n",
       "<tr>\n",
       "  <th>Df Model:</th>              <td>     1</td>      <th>                     </th>     <td> </td>   \n",
       "</tr>\n",
       "<tr>\n",
       "  <th>Covariance Type:</th>      <td>nonrobust</td>    <th>                     </th>     <td> </td>   \n",
       "</tr>\n",
       "</table>\n",
       "<table class=\"simpletable\">\n",
       "<tr>\n",
       "      <td></td>         <th>coef</th>     <th>std err</th>      <th>t</th>      <th>P>|t|</th>  <th>[0.025</th>    <th>0.975]</th>  \n",
       "</tr>\n",
       "<tr>\n",
       "  <th>Intercept</th> <td>    0.7570</td> <td>    0.049</td> <td>   15.299</td> <td> 0.000</td> <td>    0.659</td> <td>    0.855</td>\n",
       "</tr>\n",
       "<tr>\n",
       "  <th>gdp_ppc</th>   <td> 1.123e-05</td> <td> 2.04e-06</td> <td>    5.509</td> <td> 0.000</td> <td> 7.21e-06</td> <td> 1.52e-05</td>\n",
       "</tr>\n",
       "</table>\n",
       "<table class=\"simpletable\">\n",
       "<tr>\n",
       "  <th>Omnibus:</th>       <td>83.832</td> <th>  Durbin-Watson:     </th> <td>   1.831</td>\n",
       "</tr>\n",
       "<tr>\n",
       "  <th>Prob(Omnibus):</th> <td> 0.000</td> <th>  Jarque-Bera (JB):  </th> <td> 350.149</td>\n",
       "</tr>\n",
       "<tr>\n",
       "  <th>Skew:</th>          <td> 1.788</td> <th>  Prob(JB):          </th> <td>9.25e-77</td>\n",
       "</tr>\n",
       "<tr>\n",
       "  <th>Kurtosis:</th>      <td> 8.800</td> <th>  Cond. No.          </th> <td>3.04e+04</td>\n",
       "</tr>\n",
       "</table><br/><br/>Warnings:<br/>[1] Standard Errors assume that the covariance matrix of the errors is correctly specified.<br/>[2] The condition number is large, 3.04e+04. This might indicate that there are<br/>strong multicollinearity or other numerical problems."
      ],
      "text/plain": [
       "<class 'statsmodels.iolib.summary.Summary'>\n",
       "\"\"\"\n",
       "                            OLS Regression Results                            \n",
       "==============================================================================\n",
       "Dep. Variable:               openness   R-squared:                       0.145\n",
       "Model:                            OLS   Adj. R-squared:                  0.140\n",
       "Method:                 Least Squares   F-statistic:                     30.35\n",
       "Date:                Wed, 27 May 2020   Prob (F-statistic):           1.24e-07\n",
       "Time:                        23:24:54   Log-Likelihood:                -141.20\n",
       "No. Observations:                 181   AIC:                             286.4\n",
       "Df Residuals:                     179   BIC:                             292.8\n",
       "Df Model:                           1                                         \n",
       "Covariance Type:            nonrobust                                         \n",
       "==============================================================================\n",
       "                 coef    std err          t      P>|t|      [0.025      0.975]\n",
       "------------------------------------------------------------------------------\n",
       "Intercept      0.7570      0.049     15.299      0.000       0.659       0.855\n",
       "gdp_ppc     1.123e-05   2.04e-06      5.509      0.000    7.21e-06    1.52e-05\n",
       "==============================================================================\n",
       "Omnibus:                       83.832   Durbin-Watson:                   1.831\n",
       "Prob(Omnibus):                  0.000   Jarque-Bera (JB):              350.149\n",
       "Skew:                           1.788   Prob(JB):                     9.25e-77\n",
       "Kurtosis:                       8.800   Cond. No.                     3.04e+04\n",
       "==============================================================================\n",
       "\n",
       "Warnings:\n",
       "[1] Standard Errors assume that the covariance matrix of the errors is correctly specified.\n",
       "[2] The condition number is large, 3.04e+04. This might indicate that there are\n",
       "strong multicollinearity or other numerical problems.\n",
       "\"\"\""
      ]
     },
     "execution_count": 77,
     "metadata": {},
     "output_type": "execute_result"
    }
   ],
   "source": [
    "# Import statistical libraries\n",
    "import statsmodels.api\n",
    "import statsmodels.formula.api as smf\n",
    "\n",
    "# Build Linear Regression (also called Ordinary Least Squares (OLS) Regression)\n",
    "model = smf.ols('openness ~ gdp_ppc', data=data).fit()\n",
    "model.summary()"
   ]
  },
  {
   "cell_type": "markdown",
   "metadata": {},
   "source": [
    "#### Findings"
   ]
  },
  {
   "cell_type": "markdown",
   "metadata": {},
   "source": [
    "The results are statistically significant. Both p-values for intercept and GDP per capita are less than 0.0001. \n",
    "However, according to the specified model, variation in GDP per capita explains only 14,5% of the variation in trade openness. The relationship between trade openness and income level (measured as GPD per capita) positive. An increase in income by one dollar per person increases trade openness of the country by 0.000011230."
   ]
  },
  {
   "cell_type": "markdown",
   "metadata": {},
   "source": [
    "## Testing Assumptions"
   ]
  },
  {
   "cell_type": "markdown",
   "metadata": {},
   "source": [
    "### Independance"
   ]
  },
  {
   "cell_type": "markdown",
   "metadata": {},
   "source": [
    "Observations on countries can be considered independent of each other."
   ]
  },
  {
   "cell_type": "markdown",
   "metadata": {},
   "source": [
    "### Normality"
   ]
  },
  {
   "cell_type": "code",
   "execution_count": 82,
   "metadata": {},
   "outputs": [
    {
     "data": {
      "text/plain": [
       "Text(0.5, 1.01, 'The Distribution of Residuals')"
      ]
     },
     "execution_count": 82,
     "metadata": {},
     "output_type": "execute_result"
    },
    {
     "data": {
      "image/png": "[encoded data removed]",
      "text/plain": [
       "<Figure size 576x288 with 1 Axes>"
      ]
     },
     "metadata": {
      "needs_background": "light"
     },
     "output_type": "display_data"
    }
   ],
   "source": [
    "predicted_y = model.predict()\n",
    "residuals = model.resid\n",
    "\n",
    "#set figure size\n",
    "plt.figure(figsize=(8,4))\n",
    "\n",
    "# Plot kernel density distribution of residuals\n",
    "sns.kdeplot(residuals, shade=True)\n",
    "\n",
    "# Plot vertical line on the mean of the distribution\n",
    "plt.axvline(residuals.mean(), color='green')\n",
    "\n",
    "# Plot vertical line on the median of the distribution\n",
    "plt.axvline(residuals.median(), color='red')\n",
    "\n",
    "plt.legend(labels=['Mean','Median'])\n",
    "\n",
    "plt.title(\"The Distribution of Residuals\", fontsize=14, y=1.01)"
   ]
  },
  {
   "cell_type": "markdown",
   "metadata": {},
   "source": [
    "Residuals do have mean of 0, but distribution is right-skewed."
   ]
  },
  {
   "cell_type": "markdown",
   "metadata": {},
   "source": [
    "### Lenearity"
   ]
  },
  {
   "cell_type": "code",
   "execution_count": 74,
   "metadata": {},
   "outputs": [
    {
     "data": {
      "text/plain": [
       "[Text(0, 0.5, 'Residuals'), Text(0.5, 0, 'Predicted')]"
      ]
     },
     "execution_count": 74,
     "metadata": {},
     "output_type": "execute_result"
    },
    {
     "data": {
      "image/png": "[encoded data removed]",
      "text/plain": [
       "<Figure size 1440x576 with 2 Axes>"
      ]
     },
     "metadata": {
      "needs_background": "light"
     },
     "output_type": "display_data"
    }
   ],
   "source": [
    "# Set two axes on one figure\n",
    "fig, ax = plt.subplots(1,2,figsize=(20,8))\n",
    "\n",
    "# Plot linear regression model fit for Observed vs. Predicted Values\n",
    "sns.regplot(x=predicted_y, y=data['openness'].dropna(), lowess=True, ax=ax[0], line_kws={'color': 'red'})\n",
    "ax[0].set_title('Observed vs. Predicted Values', fontsize=14)\n",
    "ax[0].set(xlabel='Predicted', ylabel='Observed')\n",
    "\n",
    "# Plot linear regression model fit for Residuals vs. Predicted Values\n",
    "sns.regplot(x=predicted_y, y=resids, lowess=True, ax=ax[1], line_kws={'color': 'red'})\n",
    "ax[1].set_title('Residuals vs. Predicted Values', fontsize=14)\n",
    "ax[1].set(xlabel='Predicted', ylabel='Residuals')"
   ]
  },
  {
   "cell_type": "markdown",
   "metadata": {},
   "source": [
    "The relationship is clearly non-linear."
   ]
  },
  {
   "cell_type": "markdown",
   "metadata": {},
   "source": [
    "### Homoscedasticity"
   ]
  },
  {
   "cell_type": "code",
   "execution_count": 84,
   "metadata": {},
   "outputs": [
    {
     "data": {
      "text/plain": [
       "Text(0.5, 1.01, 'The Variance of Residuals')"
      ]
     },
     "execution_count": 84,
     "metadata": {},
     "output_type": "execute_result"
    },
    {
     "data": {
      "image/png": "[encoded data removed]",
      "text/plain": [
       "<Figure size 576x288 with 1 Axes>"
      ]
     },
     "metadata": {
      "needs_background": "light"
     },
     "output_type": "display_data"
    }
   ],
   "source": [
    "plt.figure(figsize=(8,4))\n",
    "\n",
    "# Plot a scatterplot of residuals\n",
    "plt.scatter(x=resids.index, y=resids, alpha=0.5)\n",
    "\n",
    "# Plot vertical line. Residuals should be symmetrical\n",
    "plt.hlines(0,resids.index.min(),resids.index.max())\n",
    "\n",
    "plt.title(\"The Variance of Residuals\", fontsize=14, y=1.01)"
   ]
  },
  {
   "cell_type": "markdown",
   "metadata": {},
   "source": [
    "The variance of residuals are not constant."
   ]
  },
  {
   "cell_type": "markdown",
   "metadata": {},
   "source": [
    "## Conclusions"
   ]
  },
  {
   "cell_type": "markdown",
   "metadata": {},
   "source": [
    "Since the relationship between trade openness and the income level of the country statistically significant, but tests show that the model is not correctly specified, the next logical step would be to transform variables. "
   ]
  }
 ],
 "metadata": {
  "kernelspec": {
   "display_name": "Python 3",
   "language": "python",
   "name": "python3"
  },
  "language_info": {
   "codemirror_mode": {
    "name": "ipython",
    "version": 3
   },
   "file_extension": ".py",
   "mimetype": "text/x-python",
   "name": "python",
   "nbconvert_exporter": "python",
   "pygments_lexer": "ipython3",
   "version": "3.7.3"
  }
 },
 "nbformat": 4,
 "nbformat_minor": 2
}
